{
  "nbformat": 4,
  "nbformat_minor": 0,
  "metadata": {
    "colab": {
      "name": "[Exercise] 수박수박수박수박수박수.ipynb",
      "provenance": [],
      "authorship_tag": "ABX9TyOGkRrF70aEkdnLWic7wiXX",
      "include_colab_link": true
    },
    "kernelspec": {
      "name": "python3",
      "display_name": "Python 3"
    },
    "language_info": {
      "name": "python"
    }
  },
  "cells": [
    {
      "cell_type": "markdown",
      "metadata": {
        "id": "view-in-github",
        "colab_type": "text"
      },
      "source": [
        "<a href=\"https://colab.research.google.com/github/hariharihi/Python_tutorial_programmers/blob/main/%5BExercise%5D_%EC%88%98%EB%B0%95%EC%88%98%EB%B0%95%EC%88%98%EB%B0%95%EC%88%98%EB%B0%95%EC%88%98%EB%B0%95%EC%88%98.ipynb\" target=\"_parent\"><img src=\"https://colab.research.google.com/assets/colab-badge.svg\" alt=\"Open In Colab\"/></a>"
      ]
    },
    {
      "cell_type": "markdown",
      "source": [
        "#[Exercise] 수박수박수박수박수박수?\n",
        "\n",
        "###문제 설명\n",
        "길이가 n이고, \"수박수박수박수....\"와 같은 패턴을 유지하는 문자열을 리턴하는 함수, solution을 완성하세요. 예를들어 n이 4이면 \"수박수박\"을 리턴하고 3이라면 \"수박수\"를 리턴하면 됩니다.\n",
        "\n",
        "###제한 조건\n",
        "n은 길이 10,000이하인 자연수입니다.\n",
        "\n",
        "- 문제링크: https://programmers.co.kr/learn/courses/30/lessons/12922"
      ],
      "metadata": {
        "id": "sbz0_D1bqbMM"
      }
    },
    {
      "cell_type": "code",
      "source": [
        "def solution(n):\n",
        "    word = '수박'\n",
        "    answer = (word * n)[:n]\n",
        "    return answer\n",
        "\n",
        "print(solution(3))\n",
        "print(solution(4))"
      ],
      "metadata": {
        "colab": {
          "base_uri": "https://localhost:8080/"
        },
        "id": "cvb4paLRqzIJ",
        "outputId": "0105430b-cc2f-41c9-9d62-c6a670370ef3"
      },
      "execution_count": 11,
      "outputs": [
        {
          "output_type": "stream",
          "name": "stdout",
          "text": [
            "수박수\n",
            "수박수박\n"
          ]
        }
      ]
    }
  ]
}