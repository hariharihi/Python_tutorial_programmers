{
  "nbformat": 4,
  "nbformat_minor": 0,
  "metadata": {
    "colab": {
      "name": "[Exercise] 핸드폰 번호 가리기.ipynb",
      "provenance": [],
      "authorship_tag": "ABX9TyNXTWj7G1e2a7JTcSLe587S",
      "include_colab_link": true
    },
    "kernelspec": {
      "name": "python3",
      "display_name": "Python 3"
    },
    "language_info": {
      "name": "python"
    }
  },
  "cells": [
    {
      "cell_type": "markdown",
      "metadata": {
        "id": "view-in-github",
        "colab_type": "text"
      },
      "source": [
        "<a href=\"https://colab.research.google.com/github/hariharihi/Python_tutorial_programmers/blob/main/%5BExercise%5D_%ED%95%B8%EB%93%9C%ED%8F%B0_%EB%B2%88%ED%98%B8_%EA%B0%80%EB%A6%AC%EA%B8%B0.ipynb\" target=\"_parent\"><img src=\"https://colab.research.google.com/assets/colab-badge.svg\" alt=\"Open In Colab\"/></a>"
      ]
    },
    {
      "cell_type": "markdown",
      "source": [
        "#[Exercise] 핸드폰 번호 가리기\n",
        "\n",
        "###문제 설명\n",
        "프로그래머스 모바일은 개인정보 보호를 위해 고지서를 보낼 때 고객들의 전화번호의 일부를 가립니다. 전화번호가 문자열 phone_number로 주어졌을 때, 전화번호의 뒷 4자리를 제외한 나머지 숫자를 전부 *으로 가린 문자열을 리턴하는 함수, solution을 완성해주세요.\n",
        "\n",
        "###제한 조건\n",
        "s는 길이 4 이상, 20이하인 문자열입니다.\n",
        "\n",
        "- 문제링크: https://programmers.co.kr/learn/courses/30/lessons/12948"
      ],
      "metadata": {
        "id": "AHa_FL3JtLG9"
      }
    },
    {
      "cell_type": "code",
      "execution_count": 5,
      "metadata": {
        "colab": {
          "base_uri": "https://localhost:8080/"
        },
        "id": "MGTb6nUcrsYW",
        "outputId": "fca274f0-3a2c-42ed-955c-e76e57f3fdbc"
      },
      "outputs": [
        {
          "output_type": "stream",
          "name": "stdout",
          "text": [
            "*******4444\n",
            "*****8888\n"
          ]
        }
      ],
      "source": [
        "def solution(phone_number):\n",
        "  p = phone_number\n",
        "  answer = len(p[:-4]) * '*' + p[-4:]\n",
        "  return answer\n",
        "\n",
        "print(solution('01033334444'))\n",
        "print(solution('027778888'))"
      ]
    }
  ]
}
