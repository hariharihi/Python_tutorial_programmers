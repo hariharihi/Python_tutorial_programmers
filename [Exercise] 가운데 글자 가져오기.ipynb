{
  "nbformat": 4,
  "nbformat_minor": 0,
  "metadata": {
    "colab": {
      "name": "[Exercise] 가운데 글자 가져오기",
      "provenance": [],
      "authorship_tag": "ABX9TyOmUUGETuPGsyvaf2jUKBwK",
      "include_colab_link": true
    },
    "kernelspec": {
      "name": "python3",
      "display_name": "Python 3"
    },
    "language_info": {
      "name": "python"
    }
  },
  "cells": [
    {
      "cell_type": "markdown",
      "metadata": {
        "id": "view-in-github",
        "colab_type": "text"
      },
      "source": [
        "<a href=\"https://colab.research.google.com/github/hariharihi/Python_tutorial_programmers/blob/main/%5BExercise%5D%20%EA%B0%80%EC%9A%B4%EB%8D%B0%20%EA%B8%80%EC%9E%90%20%EA%B0%80%EC%A0%B8%EC%98%A4%EA%B8%B0.ipynb\" target=\"_parent\"><img src=\"https://colab.research.google.com/assets/colab-badge.svg\" alt=\"Open In Colab\"/></a>"
      ]
    },
    {
      "cell_type": "markdown",
      "source": [
        "#[Exercise] 가운데 글자 가져오기\n",
        "###문제 설명\n",
        "단어 s의 가운데 글자를 반환하는 함수, solution을 만들어 보세요. 단어의 길이가 짝수라면 가운데 두글자를 반환하면 됩니다.\n",
        "\n",
        "###제한 조건\n",
        "s는 길이가 1 이상, 100이하인 스트링입니다.\n",
        "- 문제링크: https://programmers.co.kr/learn/courses/30/lessons/12903"
      ],
      "metadata": {
        "id": "7e0R6qCSBN84"
      }
    },
    {
      "cell_type": "code",
      "execution_count": 5,
      "metadata": {
        "colab": {
          "base_uri": "https://localhost:8080/"
        },
        "id": "IqtqUNau_pUQ",
        "outputId": "21f9fb55-f66f-4b4f-e23e-a821bce24c65"
      },
      "outputs": [
        {
          "output_type": "stream",
          "name": "stdout",
          "text": [
            "c\n",
            "we\n"
          ]
        }
      ],
      "source": [
        "def solution(s):\n",
        "  if len(s) % 2 != 0:\n",
        "    index = len(s) // 2\n",
        "    return s[index]\n",
        "  else:\n",
        "    index = len(s) // 2\n",
        "    return s[index-1:index+1]\n",
        "\n",
        "print(solution('abcde'))\n",
        "print(solution('qwer'))"
      ]
    }
  ]
}