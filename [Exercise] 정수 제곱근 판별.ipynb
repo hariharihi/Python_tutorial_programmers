{
  "nbformat": 4,
  "nbformat_minor": 0,
  "metadata": {
    "colab": {
      "name": " [Exercise] 정수 제곱근 판별",
      "provenance": [],
      "authorship_tag": "ABX9TyPOXBelH5MlPzUTAEx7Iemu",
      "include_colab_link": true
    },
    "kernelspec": {
      "name": "python3",
      "display_name": "Python 3"
    },
    "language_info": {
      "name": "python"
    }
  },
  "cells": [
    {
      "cell_type": "markdown",
      "metadata": {
        "id": "view-in-github",
        "colab_type": "text"
      },
      "source": [
        "<a href=\"https://colab.research.google.com/github/hariharihi/Python_tutorial_programmers/blob/main/%5BExercise%5D%20%EC%A0%95%EC%88%98%20%EC%A0%9C%EA%B3%B1%EA%B7%BC%20%ED%8C%90%EB%B3%84.ipynb\" target=\"_parent\"><img src=\"https://colab.research.google.com/assets/colab-badge.svg\" alt=\"Open In Colab\"/></a>"
      ]
    },
    {
      "cell_type": "markdown",
      "source": [
        "#[Exercise] 정수 제곱근 판별\n",
        "###문제 설명\n",
        "임의의 양의 정수 n에 대해, n이 어떤 양의 정수 x의 제곱인지 아닌지 판단하려 합니다. n이 양의 정수 x의 제곱이라면 x+1의 제곱을 리턴하고, n이 양의 정수 x의 제곱이 아니라면 -1을 리턴하는 함수를 완성하세요.\n",
        "\n",
        "###제한 조건\n",
        "n은 1이상, 50000000000000 이하인 양의 정수입니다.\n",
        "- 문제링크: https://programmers.co.kr/learn/courses/30/lessons/12934"
      ],
      "metadata": {
        "id": "sbqv3VTUDt0t"
      }
    },
    {
      "cell_type": "code",
      "execution_count": 8,
      "metadata": {
        "colab": {
          "base_uri": "https://localhost:8080/"
        },
        "id": "9ywM6PdnBiAg",
        "outputId": "29fd0171-34a6-4a99-fd2d-562e81728cf3"
      },
      "outputs": [
        {
          "output_type": "stream",
          "name": "stdout",
          "text": [
            "<class 'float'>\n",
            "11.0\n",
            "144.0\n",
            "<class 'float'>\n",
            "1.7320508075688772\n",
            "-1\n"
          ]
        }
      ],
      "source": [
        "def solution(n):\n",
        "  print(type(n**(1/2)))\n",
        "  print(n**(1/2))\n",
        "  if n ** (1/2) == int(n ** (1/2)):\n",
        "    answer = ((n**(1/2))+1) ** 2\n",
        "  else:\n",
        "    answer = -1\n",
        "  return answer\n",
        "\n",
        "print(solution(121))\n",
        "print(solution(3))"
      ]
    }
  ]
}