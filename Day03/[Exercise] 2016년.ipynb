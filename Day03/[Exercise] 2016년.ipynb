{
  "nbformat": 4,
  "nbformat_minor": 0,
  "metadata": {
    "colab": {
      "name": "[Exercise] 2016년.ipynb",
      "provenance": [],
      "authorship_tag": "ABX9TyMEGYf5Qmo6UnBL5hsllKnm",
      "include_colab_link": true
    },
    "kernelspec": {
      "name": "python3",
      "display_name": "Python 3"
    },
    "language_info": {
      "name": "python"
    }
  },
  "cells": [
    {
      "cell_type": "markdown",
      "metadata": {
        "id": "view-in-github",
        "colab_type": "text"
      },
      "source": [
        "<a href=\"https://colab.research.google.com/github/hariharihi/Python_tutorial_programmers/blob/main/%5BExercise%5D%202016%EB%85%84.ipynb\" target=\"_parent\"><img src=\"https://colab.research.google.com/assets/colab-badge.svg\" alt=\"Open In Colab\"/></a>"
      ]
    },
    {
      "cell_type": "markdown",
      "source": [
        "#[Exercise] 2016년\n",
        "###문제 설명\n",
        "2016년 1월 1일은 금요일입니다. 2016년 a월 b일은 무슨 요일일까요? 두 수 a ,b를 입력받아 2016년 a월 b일이 무슨 요일인지 리턴하는 함수, solution을 완성하세요. 요일의 이름은 일요일부터 토요일까지 각각 SUN,MON,TUE,WED,THU,FRI,SAT입니다. \n",
        "- 예를 들어 a=5, b=24라면 5월 24일은 화요일이므로 문자열 \"TUE\"를 반환하세요.\n",
        "\n",
        "###제한 조건\n",
        "- 2016년은 윤년입니다.\n",
        "- 2016년 a월 b일은 실제로 있는 날입니다. (13월 26일이나 2월 45일같은 날짜는 주어지지 않습니다)\n",
        "- 문제링크: https://programmers.co.kr/learn/courses/30/lessons/12901"
      ],
      "metadata": {
        "id": "sbqv3VTUDt0t"
      }
    },
    {
      "cell_type": "code",
      "execution_count": null,
      "metadata": {
        "id": "9ywM6PdnBiAg"
      },
      "outputs": [],
      "source": [
        "def solution(a, b):\n",
        "    week = ['THU', 'FRI', 'SAT', 'SUN', 'MON', 'TUE', 'WED']\n",
        "    days = [31, 29, 31, 30, 31, 30, 31, 31, 30, 31, 30, 31]\n",
        "        \n",
        "    a_days = sum(days[:a-1]) + b\n",
        "    w_index = a_days % 7\n",
        "    answer = week[w_index]\n",
        "    \n",
        "    return answer"
      ]
    }
  ]
}
