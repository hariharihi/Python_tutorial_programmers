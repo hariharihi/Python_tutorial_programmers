{
  "nbformat": 4,
  "nbformat_minor": 0,
  "metadata": {
    "colab": {
      "name": "[Exercise] 같은 숫자는 싫어.ipynb",
      "provenance": [],
      "authorship_tag": "ABX9TyOP0Opp9ODfaaApmc9crjda",
      "include_colab_link": true
    },
    "kernelspec": {
      "name": "python3",
      "display_name": "Python 3"
    },
    "language_info": {
      "name": "python"
    }
  },
  "cells": [
    {
      "cell_type": "markdown",
      "metadata": {
        "id": "view-in-github",
        "colab_type": "text"
      },
      "source": [
        "<a href=\"https://colab.research.google.com/github/hariharihi/Python_tutorial_programmers/blob/main/Day03/%5BExercise%5D%20%EA%B0%99%EC%9D%80%20%EC%88%AB%EC%9E%90%EB%8A%94%20%EC%8B%AB%EC%96%B4.ipynb\" target=\"_parent\"><img src=\"https://colab.research.google.com/assets/colab-badge.svg\" alt=\"Open In Colab\"/></a>"
      ]
    },
    {
      "cell_type": "markdown",
      "source": [
        "#[Exercise] 같은 숫자는 싫어\n",
        "###문제 설명\n",
        "배열 arr가 주어집니다. 배열 arr의 각 원소는 숫자 0부터 9까지로 이루어져 있습니다. 이때, 배열 arr에서 연속적으로 나타나는 숫자는 하나만 남기고 전부 제거하려고 합니다. 단, 제거된 후 남은 수들을 반환할 때는 배열 arr의 원소들의 순서를 유지해야 합니다. \n",
        "예를 들면,\n",
        "- arr = [1, 1, 3, 3, 0, 1, 1] 이면 [1, 3, 0, 1] 을 return 합니다.\n",
        "- arr = [4, 4, 4, 3, 3] 이면 [4, 3] 을 return 합니다.\n",
        "\n",
        "배열 arr에서 연속적으로 나타나는 숫자는 제거하고 남은 수들을 return 하는 solution 함수를 완성해 주세요.\n",
        "\n",
        "\n",
        "###제한 조건\n",
        "- 배열 arr의 크기 : 1,000,000 이하의 자연수\n",
        "- 배열 arr의 원소의 크기 : 0보다 크거나 같고 9보다 작거나 같은 정수\n",
        "- 문제링크: https://programmers.co.kr/learn/courses/30/lessons/12906"
      ],
      "metadata": {
        "id": "s-n9hlVbr2DG"
      }
    },
    {
      "cell_type": "code",
      "execution_count": null,
      "metadata": {
        "colab": {
          "base_uri": "https://localhost:8080/"
        },
        "id": "rJLGLwvhryxP",
        "outputId": "4201d2dc-2018-4b66-e9c5-023440237454"
      },
      "outputs": [
        {
          "output_type": "stream",
          "name": "stdout",
          "text": [
            "[1, 3, 0, 1]\n",
            "[4, 3]\n"
          ]
        }
      ],
      "source": [
        "def solution(arr): \n",
        "    answer = [arr[0]] \n",
        "    index = 0 \n",
        "    r = len(arr)-1  \n",
        "    \n",
        "    while index < r:\n",
        "        if arr[index] == arr[index+1]:\n",
        "            if answer[(len(answer)-1)] == arr[index+1]:\n",
        "                index += 1\n",
        "            else:\n",
        "                answer.append(arr[index+1])\n",
        "                index += 1\n",
        "        else:\n",
        "            answer.append(arr[index+1])\n",
        "            index += 1\n",
        "            \n",
        "    return answer\n",
        "\n",
        "print(solution([1,1,3,3,0,1,1]))\n",
        "print(solution([4,4,4,3,3]))"
      ]
    },
    {
      "cell_type": "code",
      "source": [
        "#OR\n",
        "\n",
        "def solution(arr): \n",
        "    answer = [arr[0]] \n",
        "    index = 0 \n",
        "    r = len(arr)-1  \n",
        "    \n",
        "    while index < r:\n",
        "        if arr[index] != arr[index+1]:\n",
        "          answer.append(arr[index+1])\n",
        "          index += 1\n",
        "        elif answer[(len(answer)-1)] == arr[index+1]:\n",
        "          index += 1\n",
        "        else:\n",
        "          answer.append(arr[index+1])\n",
        "          index += 1  \n",
        "    return answer\n",
        "\n",
        "print(solution([1,1,3,3,0,1,1]))\n",
        "print(solution([4,4,4,3,3]))"
      ],
      "metadata": {
        "colab": {
          "base_uri": "https://localhost:8080/"
        },
        "id": "3JOjh78Z29YL",
        "outputId": "376634fe-54f3-4996-dd9f-a526f7fdf74c"
      },
      "execution_count": null,
      "outputs": [
        {
          "output_type": "stream",
          "name": "stdout",
          "text": [
            "[1, 3, 0, 1]\n",
            "[4, 3]\n"
          ]
        }
      ]
    }
  ]
}