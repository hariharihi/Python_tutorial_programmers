{
  "nbformat": 4,
  "nbformat_minor": 0,
  "metadata": {
    "colab": {
      "name": "[Exercise] 행렬의 덧셈.ipynb",
      "provenance": [],
      "collapsed_sections": [],
      "authorship_tag": "ABX9TyNVafUk1+K2jwAy4A0RO5x+",
      "include_colab_link": true
    },
    "kernelspec": {
      "name": "python3",
      "display_name": "Python 3"
    },
    "language_info": {
      "name": "python"
    }
  },
  "cells": [
    {
      "cell_type": "markdown",
      "metadata": {
        "id": "view-in-github",
        "colab_type": "text"
      },
      "source": [
        "<a href=\"https://colab.research.google.com/github/hariharihi/Python_tutorial_programmers/blob/main/Day03/%5BExercise%5D%20%ED%96%89%EB%A0%AC%EC%9D%98%20%EB%8D%A7%EC%85%88.ipynb\" target=\"_parent\"><img src=\"https://colab.research.google.com/assets/colab-badge.svg\" alt=\"Open In Colab\"/></a>"
      ]
    },
    {
      "cell_type": "markdown",
      "source": [
        "#[Exercise] 행렬의 덧셈\n",
        "\n",
        "###문제 설명\n",
        "행렬의 덧셈은 행과 열의 크기가 같은 두 행렬의 같은 행, 같은 열의 값을 서로 더한 결과가 됩니다. 2개의 행렬 arr1과 arr2를 입력받아, 행렬 덧셈의 결과를 반환하는 함수, solution을 완성해주세요.\n",
        "\n",
        "###제한 조건\n",
        "- 행렬 arr1, arr2의 행과 열의 길이는 500을 넘지 않습니다.\n",
        "- 문제 링크: https://programmers.co.kr/learn/courses/30/lessons/12950"
      ],
      "metadata": {
        "id": "MNMsZjegow9V"
      }
    },
    {
      "cell_type": "code",
      "source": [
        "def solution(arr1, arr2):\n",
        "    for i in range(len(arr1)):\n",
        "        for j in range(len(arr1[i])):\n",
        "            arr1[i][j] = arr1[i][j] + arr2[i][j]\n",
        "    return arr1\n",
        "\n",
        "print(solution([[1,2],[2,3]], [[3,4],[5,6]]))\n",
        "print(solution([[1],[2]], [[3],[4]]))"
      ],
      "metadata": {
        "colab": {
          "base_uri": "https://localhost:8080/"
        },
        "id": "5myp0zh0ojbF",
        "outputId": "0631753c-fdfa-4ba4-8bdd-6deedb350900"
      },
      "execution_count": 3,
      "outputs": [
        {
          "output_type": "stream",
          "name": "stdout",
          "text": [
            "[[4, 6], [7, 9]]\n",
            "[[4], [6]]\n"
          ]
        }
      ]
    },
    {
      "cell_type": "code",
      "execution_count": 10,
      "metadata": {
        "colab": {
          "base_uri": "https://localhost:8080/"
        },
        "id": "FxRaPvzwnzmy",
        "outputId": "dadf210d-ef4e-4647-8700-5587fe5a9517"
      },
      "outputs": [
        {
          "output_type": "stream",
          "name": "stdout",
          "text": [
            "[[4, 6], [7, 9]]\n",
            "[[4], [6]]\n"
          ]
        }
      ],
      "source": [
        "#OR using numpy & tolist()\n",
        "\n",
        "import numpy as np\n",
        "def solution(arr1, arr2):\n",
        "    arr1 = np.array(arr1)\n",
        "    arr2 = np.array(arr2)\n",
        "    answer = arr1 + arr2\n",
        "    return answer.tolist()\n",
        "\n",
        "print(solution([[1,2],[2,3]], [[3,4],[5,6]]))\n",
        "print(solution([[1],[2]], [[3],[4]]))"
      ]
    }
  ]
}