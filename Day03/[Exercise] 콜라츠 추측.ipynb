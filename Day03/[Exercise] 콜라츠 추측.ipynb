{
  "nbformat": 4,
  "nbformat_minor": 0,
  "metadata": {
    "colab": {
      "name": "[Exercise] 콜라츠 추측.ipynb",
      "provenance": [],
      "collapsed_sections": [],
      "authorship_tag": "ABX9TyNZobtTG5oHX9WNRTVrJSx8",
      "include_colab_link": true
    },
    "kernelspec": {
      "name": "python3",
      "display_name": "Python 3"
    },
    "language_info": {
      "name": "python"
    }
  },
  "cells": [
    {
      "cell_type": "markdown",
      "metadata": {
        "id": "view-in-github",
        "colab_type": "text"
      },
      "source": [
        "<a href=\"https://colab.research.google.com/github/hariharihi/Python_tutorial_programmers/blob/main/Day03/%5BExercise%5D%20%EC%BD%9C%EB%9D%BC%EC%B8%A0%20%EC%B6%94%EC%B8%A1.ipynb\" target=\"_parent\"><img src=\"https://colab.research.google.com/assets/colab-badge.svg\" alt=\"Open In Colab\"/></a>"
      ]
    },
    {
      "cell_type": "markdown",
      "source": [
        "#[Exercise] 콜라츠 추측\n",
        "\n",
        "###문제 설명\n",
        "- 1937년 Collatz란 사람에 의해 제기된 이 추측은, 주어진 수가 1이 될때까지 다음 작업을 반복하면, 모든 수를 1로 만들 수 있다는 추측입니다. 작업은 다음과 같습니다.\n",
        "  - 1-1. 입력된 수가 짝수라면 2로 나눕니다. \n",
        "  - 1-2. 입력된 수가 홀수라면 3을 곱하고 1을 더합니다.\n",
        "  - 2.결과로 나온 수에 같은 작업을 1이 될 때까지 반복합니다.\n",
        "- 예를 들어, 입력된 수가 6이라면 6→3→10→5→16→8→4→2→1 이 되어 총 8번 만에 1이 됩니다. 위 작업을 몇 번이나 반복해야하는지 반환하는 함수, solution을 완성해 주세요. 단, 작업을 500번을 반복해도 1이 되지 않는다면 –1을 반환해 주세요.\n",
        "\n",
        "###제한 조건\n",
        "- 입력된 수, num은 1 이상 8000000 미만인 정수입니다.\n",
        "- 문제 링크: https://programmers.co.kr/learn/courses/30/lessons/12943"
      ],
      "metadata": {
        "id": "64Bg50UT8ZiX"
      }
    },
    {
      "cell_type": "code",
      "execution_count": 1,
      "metadata": {
        "colab": {
          "base_uri": "https://localhost:8080/"
        },
        "id": "1GD_HLFv8ZKo",
        "outputId": "09f841c5-d712-4e41-d9d4-fabbbbaff1aa"
      },
      "outputs": [
        {
          "output_type": "stream",
          "name": "stdout",
          "text": [
            "8\n",
            "4\n",
            "-1\n"
          ]
        }
      ],
      "source": [
        "def solution(num):\n",
        "    tries = 0\n",
        "    while num >= 1:\n",
        "        if num == 1:\n",
        "            break\n",
        "        elif tries >= 500:\n",
        "            tries = -1\n",
        "            break\n",
        "        elif num % 2 == 0:\n",
        "            num = num / 2\n",
        "            tries += 1\n",
        "        else:\n",
        "            num = num * 3 + 1\n",
        "            tries += 1\n",
        "    return tries\n",
        "\n",
        "print(solution(6))\n",
        "print(solution(16))\n",
        "print(solution(626331))"
      ]
    }
  ]
}