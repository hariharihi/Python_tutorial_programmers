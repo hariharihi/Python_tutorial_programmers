{
  "nbformat": 4,
  "nbformat_minor": 0,
  "metadata": {
    "colab": {
      "name": "[Exercise] 서울에서 김서방 찾기.ipynb",
      "provenance": [],
      "authorship_tag": "ABX9TyMTW/CW2Wqu55LuhBj8yD5H",
      "include_colab_link": true
    },
    "kernelspec": {
      "name": "python3",
      "display_name": "Python 3"
    },
    "language_info": {
      "name": "python"
    }
  },
  "cells": [
    {
      "cell_type": "markdown",
      "metadata": {
        "id": "view-in-github",
        "colab_type": "text"
      },
      "source": [
        "<a href=\"https://colab.research.google.com/github/hariharihi/Python_tutorial_programmers/blob/main/Day03/%5BExercise%5D%20%EC%84%9C%EC%9A%B8%EC%97%90%EC%84%9C%20%EA%B9%80%EC%84%9C%EB%B0%A9%20%EC%B0%BE%EA%B8%B0.ipynb\" target=\"_parent\"><img src=\"https://colab.research.google.com/assets/colab-badge.svg\" alt=\"Open In Colab\"/></a>"
      ]
    },
    {
      "cell_type": "markdown",
      "source": [
        "#[Exercise] 서울에서 김서방 찾기\n",
        "###문제 설명\n",
        "String형 배열 seoul의 element중 \"Kim\"의 위치 x를 찾아, \"김서방은 x에 있다\"는 String을 반환하는 함수, solution을 완성하세요. seoul에 \"Kim\"은 오직 한 번만 나타나며 잘못된 값이 입력되는 경우는 없습니다.\n",
        "\n",
        "###제한 조건\n",
        "- seoul은 길이 1 이상, 1000 이하인 배열입니다.\n",
        "- seoul의 원소는 길이 1 이상, 20 이하인 문자열입니다.\n",
        "- \"Kim\"은 반드시 seoul 안에 포함되어 있습니다."
      ],
      "metadata": {
        "id": "Iwil95JcBjYP"
      }
    },
    {
      "cell_type": "code",
      "execution_count": 1,
      "metadata": {
        "colab": {
          "base_uri": "https://localhost:8080/"
        },
        "id": "gb3dqRrCBijv",
        "outputId": "48281ef9-d979-4dbd-91c9-c7cfa8f2f6e4"
      },
      "outputs": [
        {
          "output_type": "stream",
          "name": "stdout",
          "text": [
            "김서방은 1에 있다\n"
          ]
        }
      ],
      "source": [
        "def solution(seoul):\n",
        "    x = seoul.index('Kim')\n",
        "    answer = f'김서방은 {x}에 있다'\n",
        "    return answer\n",
        "\n",
        "print(solution([\"Jane\", \"Kim\"]))"
      ]
    }
  ]
}