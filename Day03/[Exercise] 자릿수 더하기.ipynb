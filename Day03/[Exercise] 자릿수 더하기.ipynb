{
  "nbformat": 4,
  "nbformat_minor": 0,
  "metadata": {
    "colab": {
      "name": "[Exercise] 자릿수 더하기.ipynb",
      "provenance": [],
      "authorship_tag": "ABX9TyN/3/DK24oFP6A3fYHRVVpv",
      "include_colab_link": true
    },
    "kernelspec": {
      "name": "python3",
      "display_name": "Python 3"
    },
    "language_info": {
      "name": "python"
    }
  },
  "cells": [
    {
      "cell_type": "markdown",
      "metadata": {
        "id": "view-in-github",
        "colab_type": "text"
      },
      "source": [
        "<a href=\"https://colab.research.google.com/github/hariharihi/Python_tutorial_programmers/blob/main/Day03/%5BExercise%5D%20%EC%9E%90%EB%A6%BF%EC%88%98%20%EB%8D%94%ED%95%98%EA%B8%B0.ipynb\" target=\"_parent\"><img src=\"https://colab.research.google.com/assets/colab-badge.svg\" alt=\"Open In Colab\"/></a>"
      ]
    },
    {
      "cell_type": "markdown",
      "source": [
        "#[Exercise] 자릿수 더하기\n",
        "###문제 설명\n",
        "자연수 N이 주어지면, N의 각 자릿수의 합을 구해서 return 하는 solution 함수를 만들어 주세요.\n",
        "예를들어 N = 123이면 1 + 2 + 3 = 6을 return 하면 됩니다.\n",
        "\n",
        "###제한 조건\n",
        "- N의 범위 : 100,000,000 이하의 자연수"
      ],
      "metadata": {
        "id": "DRBPSAwkagSR"
      }
    },
    {
      "cell_type": "code",
      "source": [
        "def solution(n):\n",
        "    n = list(str(n))\n",
        "    new_list = [int(i) for i in n]\n",
        "    return sum(new_list)\n",
        "\n",
        "print(solution(123))\n",
        "print(solution(987))"
      ],
      "metadata": {
        "colab": {
          "base_uri": "https://localhost:8080/"
        },
        "id": "GqqX4C9ZaTnv",
        "outputId": "5bd091a2-79bb-411f-c20a-08d133590f22"
      },
      "execution_count": 8,
      "outputs": [
        {
          "output_type": "stream",
          "name": "stdout",
          "text": [
            "6\n",
            "24\n"
          ]
        }
      ]
    },
    {
      "cell_type": "code",
      "execution_count": 9,
      "metadata": {
        "colab": {
          "base_uri": "https://localhost:8080/"
        },
        "id": "gJEQwmSHYcP1",
        "outputId": "abe70a47-8342-49a2-e7ee-8d3152e7e9a9"
      },
      "outputs": [
        {
          "output_type": "stream",
          "name": "stdout",
          "text": [
            "6\n",
            "24\n"
          ]
        }
      ],
      "source": [
        "# OR\n",
        "n_list = [int(i) for i in str(n)]\n",
        "sum(n_list)\n",
        "\n",
        "print(solution(123))\n",
        "print(solution(987))"
      ]
    }
  ]
}