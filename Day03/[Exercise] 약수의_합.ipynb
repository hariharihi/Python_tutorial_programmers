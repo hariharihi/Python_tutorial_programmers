{
  "nbformat": 4,
  "nbformat_minor": 0,
  "metadata": {
    "colab": {
      "name": "[Exercise] 약수의 합.ipynb",
      "provenance": [],
      "authorship_tag": "ABX9TyPTyz+3ZfgzFy7uIGVdduNl",
      "include_colab_link": true
    },
    "kernelspec": {
      "name": "python3",
      "display_name": "Python 3"
    },
    "language_info": {
      "name": "python"
    }
  },
  "cells": [
    {
      "cell_type": "markdown",
      "metadata": {
        "id": "view-in-github",
        "colab_type": "text"
      },
      "source": [
        "<a href=\"https://colab.research.google.com/github/hariharihi/Python_tutorial_programmers/blob/main/Day03/%5BExercise%5D%20%EC%95%BD%EC%88%98%EC%9D%98_%ED%95%A9.ipynb\" target=\"_parent\"><img src=\"https://colab.research.google.com/assets/colab-badge.svg\" alt=\"Open In Colab\"/></a>"
      ]
    },
    {
      "cell_type": "markdown",
      "source": [
        "#[Exercise] 약수의 합\n",
        "###문제 설명\n",
        "정수 n을 입력받아 n의 약수를 모두 더한 값을 리턴하는 함수, solution을 완성해주세요.\n",
        "\n",
        "###제한 조건\n",
        "- n은 0 이상 3000이하인 정수입니다.\n"
      ],
      "metadata": {
        "id": "4mBv86lvMfgy"
      }
    },
    {
      "cell_type": "code",
      "source": [
        "def solution(n): \n",
        "    n_list = list(range(1, int(n**0.5)+1)) \n",
        "    div = [] \n",
        "    \n",
        "    for i in n_list:\n",
        "        if n % i == 0:\n",
        "            div.append(i) \n",
        "            div.append(n//i)\n",
        "    \n",
        "    div_unique = list(set(div))\n",
        "    return sum(div_unique)\n",
        "\n",
        "print(5)\n",
        "print(12)"
      ],
      "metadata": {
        "id": "9bqTePfJMoBA",
        "colab": {
          "base_uri": "https://localhost:8080/"
        },
        "outputId": "470b638b-0b1f-47c6-eff8-39d9595d9cc0"
      },
      "execution_count": 5,
      "outputs": [
        {
          "output_type": "stream",
          "name": "stdout",
          "text": [
            "5\n",
            "12\n"
          ]
        }
      ]
    },
    {
      "cell_type": "code",
      "execution_count": 4,
      "metadata": {
        "id": "9TFAWNAmMewe",
        "colab": {
          "base_uri": "https://localhost:8080/"
        },
        "outputId": "4be453ca-86d9-4cfc-f2f1-6a683e9180e9"
      },
      "outputs": [
        {
          "output_type": "stream",
          "name": "stdout",
          "text": [
            "5\n",
            "12\n"
          ]
        }
      ],
      "source": [
        "# extremely inefficient!\n",
        "def solution(n): \n",
        "    n_list = list(range(1, n+1))\n",
        "    div = []\n",
        "    for i in n_list:\n",
        "        if n % i == 0:\n",
        "            div.append(i)\n",
        "    return sum(div)\n",
        "\n",
        "print(5)\n",
        "print(12)"
      ]
    },
    {
      "cell_type": "code",
      "source": [
        "# less but still inefficient\n",
        "def solution(n): \n",
        "    sum = sum([i for i in (range(1, n+1)) if n%i==0])\n",
        "    return sum\n",
        "\n",
        "print(5)\n",
        "print(12)"
      ],
      "metadata": {
        "colab": {
          "base_uri": "https://localhost:8080/"
        },
        "id": "oypsBfQtS1D9",
        "outputId": "2a0a2294-2de4-474a-ec12-55e09c19a62f"
      },
      "execution_count": 6,
      "outputs": [
        {
          "output_type": "stream",
          "name": "stdout",
          "text": [
            "5\n",
            "12\n"
          ]
        }
      ]
    }
  ]
}