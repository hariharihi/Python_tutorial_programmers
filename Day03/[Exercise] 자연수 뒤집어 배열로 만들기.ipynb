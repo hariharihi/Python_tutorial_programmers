{
  "nbformat": 4,
  "nbformat_minor": 0,
  "metadata": {
    "colab": {
      "name": "[Exercise] 자연수 뒤집어 배열로 만들기.ipynb",
      "provenance": [],
      "collapsed_sections": [],
      "authorship_tag": "ABX9TyPMVOP2VPzuknuL6PQFdK4c",
      "include_colab_link": true
    },
    "kernelspec": {
      "name": "python3",
      "display_name": "Python 3"
    },
    "language_info": {
      "name": "python"
    }
  },
  "cells": [
    {
      "cell_type": "markdown",
      "metadata": {
        "id": "view-in-github",
        "colab_type": "text"
      },
      "source": [
        "<a href=\"https://colab.research.google.com/github/hariharihi/Python_tutorial_programmers/blob/main/Day03/%5BExercise%5D%20%EC%9E%90%EC%97%B0%EC%88%98%20%EB%92%A4%EC%A7%91%EC%96%B4%20%EB%B0%B0%EC%97%B4%EB%A1%9C%20%EB%A7%8C%EB%93%A4%EA%B8%B0.ipynb\" target=\"_parent\"><img src=\"https://colab.research.google.com/assets/colab-badge.svg\" alt=\"Open In Colab\"/></a>"
      ]
    },
    {
      "cell_type": "markdown",
      "source": [
        "#[Exercise] 자연수 뒤집어 배열로 만들기\n",
        "###문제 설명\n",
        "자연수 n을 뒤집어 각 자리 숫자를 원소로 가지는 배열 형태로 리턴해주세요. 예를들어 n이 12345이면 [5,4,3,2,1]을 리턴합니다.\n",
        "\n",
        "###제한 조건\n",
        "= n은 10,000,000,000이하인 자연수입니다.\n",
        "- 문제링크: https://programmers.co.kr/learn/courses/30/lessons/12932"
      ],
      "metadata": {
        "id": "DtqivUdjquqn"
      }
    },
    {
      "cell_type": "code",
      "execution_count": 1,
      "metadata": {
        "colab": {
          "base_uri": "https://localhost:8080/"
        },
        "id": "_MYP0QSYqqdE",
        "outputId": "c02777e0-6354-4a3a-bbe5-ccb7786ebbbc"
      },
      "outputs": [
        {
          "output_type": "stream",
          "name": "stdout",
          "text": [
            "[5, 4, 3, 2, 1]\n"
          ]
        }
      ],
      "source": [
        "def solution(n):\n",
        "    n_list = [int(i) for i in str(n)] \n",
        "    reverse_list = [n_list[len(n_list)-1-i] for i in range(len(n_list))]\n",
        "    return reverse_list\n",
        "\n",
        "print(solution(12345))"
      ]
    },
    {
      "cell_type": "code",
      "source": [
        "#OR using [::-1]\n",
        "def solution(n):\n",
        "    n_list = [int(i) for i in str(n)] \n",
        "    reverse_list = n_list[::-1]\n",
        "    return reverse_list\n",
        "\n",
        "print(solution(12345))"
      ],
      "metadata": {
        "colab": {
          "base_uri": "https://localhost:8080/"
        },
        "id": "QZxib-3lyUhL",
        "outputId": "b723e693-4612-4a37-c0c2-1ddcabaa7b67"
      },
      "execution_count": 17,
      "outputs": [
        {
          "output_type": "stream",
          "name": "stdout",
          "text": [
            "[5, 4, 3, 2, 1]\n"
          ]
        }
      ]
    },
    {
      "cell_type": "code",
      "source": [
        "#OR using list.reverse()\n",
        "\n",
        "def solution(n):\n",
        "    n_list = [int(i) for i in str(n)] \n",
        "    n_list.reverse()\n",
        "    return n_list\n",
        "\n",
        "print(solution(12345))"
      ],
      "metadata": {
        "colab": {
          "base_uri": "https://localhost:8080/"
        },
        "id": "0jeWQKMawpG4",
        "outputId": "e8501e7a-fabf-47e5-bd63-bf0e520a9c94"
      },
      "execution_count": 2,
      "outputs": [
        {
          "output_type": "stream",
          "name": "stdout",
          "text": [
            "[5, 4, 3, 2, 1]\n"
          ]
        }
      ]
    },
    {
      "cell_type": "code",
      "source": [
        "#OR using reversed(list)\n",
        "\n",
        "def solution(n):\n",
        "    n_list = [int(i) for i in str(n)] \n",
        "    reverse_list = list(reversed(n_list))\n",
        "    return reverse_list\n",
        "\n",
        "print(solution(12345))"
      ],
      "metadata": {
        "colab": {
          "base_uri": "https://localhost:8080/"
        },
        "id": "1SvEWjnWwpsq",
        "outputId": "ec0d5f78-4c53-497a-e46c-bfa20f0ee9e9"
      },
      "execution_count": 9,
      "outputs": [
        {
          "output_type": "stream",
          "name": "stdout",
          "text": [
            "[5, 4, 3, 2, 1]\n"
          ]
        }
      ]
    },
    {
      "cell_type": "code",
      "source": [
        "#OR using list.sort(reverse=True)\n",
        "\n",
        "def solution(n):\n",
        "    n_list = [int(i) for i in str(n)] \n",
        "    n_list.sort(reverse=True)\n",
        "    return n_list\n",
        "\n",
        "print(solution(12345))"
      ],
      "metadata": {
        "colab": {
          "base_uri": "https://localhost:8080/"
        },
        "id": "PGFKxcPcyKaF",
        "outputId": "30f1c452-4efa-42c7-bfe5-84ab8b7ff976"
      },
      "execution_count": 11,
      "outputs": [
        {
          "output_type": "stream",
          "name": "stdout",
          "text": [
            "[5, 4, 3, 2, 1]\n"
          ]
        }
      ]
    }
  ]
}