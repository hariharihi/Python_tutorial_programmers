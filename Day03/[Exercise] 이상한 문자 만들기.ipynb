{
  "nbformat": 4,
  "nbformat_minor": 0,
  "metadata": {
    "colab": {
      "name": "[Exercise] 이상한 문자 만들기.ipynb",
      "provenance": [],
      "authorship_tag": "ABX9TyP1JSp4GS/oGa6rSXwyotaC",
      "include_colab_link": true
    },
    "kernelspec": {
      "name": "python3",
      "display_name": "Python 3"
    },
    "language_info": {
      "name": "python"
    }
  },
  "cells": [
    {
      "cell_type": "markdown",
      "metadata": {
        "id": "view-in-github",
        "colab_type": "text"
      },
      "source": [
        "<a href=\"https://colab.research.google.com/github/hariharihi/Python_tutorial_programmers/blob/main/Day03/%5BExercise%5D_%EC%9D%B4%EC%83%81%ED%95%9C_%EB%AC%B8%EC%9E%90_%EB%A7%8C%EB%93%A4%EA%B8%B0.ipynb\" target=\"_parent\"><img src=\"https://colab.research.google.com/assets/colab-badge.svg\" alt=\"Open In Colab\"/></a>"
      ]
    },
    {
      "cell_type": "markdown",
      "source": [
        "#[Exercise] 이상한 문자 만들기\n",
        "###문제 설명\n",
        "문자열 s는 한 개 이상의 단어로 구성되어 있습니다. 각 단어는 하나 이상의 공백문자로 구분되어 있습니다. 각 단어의 짝수번째 알파벳은 대문자로, 홀수번째 알파벳은 소문자로 바꾼 문자열을 리턴하는 함수, solution을 완성하세요.\n",
        "\n",
        "###제한 조건\n",
        "- 문자열 전체의 짝/홀수 인덱스가 아니라, 단어(공백을 기준)별로 짝/홀수 인덱스를 판단해야합니다.\n",
        "- 첫 번째 글자는 0번째 인덱스로 보아 짝수번째 알파벳으로 처리해야 합니다."
      ],
      "metadata": {
        "id": "7jtTtkiOe0Kt"
      }
    },
    {
      "cell_type": "code",
      "execution_count": 1,
      "metadata": {
        "colab": {
          "base_uri": "https://localhost:8080/"
        },
        "id": "nmNpK12uezMB",
        "outputId": "cb90c65a-f98d-423d-d58f-b86002e61780"
      },
      "outputs": [
        {
          "output_type": "stream",
          "name": "stdout",
          "text": [
            "TrY HeLlO WoRlD\n",
            "JuSt Go FoR It\n",
            "WhAt\n",
            "HeLlO  WoRlD\n"
          ]
        }
      ],
      "source": [
        "def solution(s):    \n",
        "    s_list = list(s)\n",
        "    n_list = []\n",
        "    v = 0\n",
        "    \n",
        "    for i in range(len(s_list)): \n",
        "        if s_list[i] == ' ':\n",
        "            n_list.append(' ')\n",
        "            v = 0\n",
        "        elif v % 2 == 0:\n",
        "            n_list.append(s_list[i].upper())\n",
        "            v += 1\n",
        "        elif v % 2 == 1:\n",
        "            n_list.append(s_list[i].lower())\n",
        "            v += 1\n",
        "    answer = \"\".join(n_list)\n",
        "    return answer\n",
        "\n",
        "print(solution(\"try hello world\"))\n",
        "print(solution(\"just go for it\"))\n",
        "print(solution(\"what\"))\n",
        "print(solution(\"hello  world\"))"
      ]
    },
    {
      "cell_type": "code",
      "source": [
        "#OR\n",
        "  # 'hello  world'.split(\" \")\n",
        "  # ['hello', '', 'world']\n",
        "\n",
        "def solution(s):\n",
        "    answer = []\n",
        "    s = s.split(\" \")\n",
        "\n",
        "    for i in range(len(s)):\n",
        "        result = ''\n",
        "        for j in range(len(s[i])):\n",
        "            if j % 2 == 0:\n",
        "                result += s[i][j].upper()\n",
        "            else:\n",
        "                result += s[i][j].lower()\n",
        "        answer.append(result)\n",
        "\n",
        "    return ' '.join(answer)\n",
        "\n",
        "print(solution(\"try hello world\"))\n",
        "print(solution(\"just go for it\"))\n",
        "print(solution(\"what\"))\n",
        "print(solution(\"hello  world\"))"
      ],
      "metadata": {
        "colab": {
          "base_uri": "https://localhost:8080/"
        },
        "id": "75HGWfYzfSV6",
        "outputId": "5dd26adb-6f3e-4b53-9006-bf1f909d3e63"
      },
      "execution_count": 12,
      "outputs": [
        {
          "output_type": "stream",
          "name": "stdout",
          "text": [
            "TrY HeLlO WoRlD\n",
            "JuSt Go FoR It\n",
            "WhAt\n",
            "HeLlO  WoRlD\n"
          ]
        }
      ]
    }
  ]
}
