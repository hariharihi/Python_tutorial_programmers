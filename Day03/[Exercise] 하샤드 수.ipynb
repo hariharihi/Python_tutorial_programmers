{
  "nbformat": 4,
  "nbformat_minor": 0,
  "metadata": {
    "colab": {
      "name": "[Exercise] 하샤드 수.ipynb",
      "provenance": [],
      "authorship_tag": "ABX9TyONEe2OC1Il+L9+lnVdtaQy",
      "include_colab_link": true
    },
    "kernelspec": {
      "name": "python3",
      "display_name": "Python 3"
    },
    "language_info": {
      "name": "python"
    }
  },
  "cells": [
    {
      "cell_type": "markdown",
      "metadata": {
        "id": "view-in-github",
        "colab_type": "text"
      },
      "source": [
        "<a href=\"https://colab.research.google.com/github/hariharihi/Python_tutorial_programmers/blob/main/Day03/%5BExercise%5D%20%ED%95%98%EC%83%A4%EB%93%9C%20%EC%88%98.ipynb\" target=\"_parent\"><img src=\"https://colab.research.google.com/assets/colab-badge.svg\" alt=\"Open In Colab\"/></a>"
      ]
    },
    {
      "cell_type": "markdown",
      "source": [
        "#[Exercise] 하샤드 수\n",
        "\n",
        "###문제 설명\n",
        "양의 정수 x가 하샤드 수이려면 x의 자릿수의 합으로 x가 나누어져야 합니다. 예를 들어 18의 자릿수 합은 1+8=9이고, 18은 9로 나누어 떨어지므로 18은 하샤드 수입니다. 자연수 x를 입력받아 x가 하샤드 수인지 아닌지 검사하는 함수, solution을 완성해주세요.\n",
        "\n",
        "###제한 조건\n",
        "- x는 1 이상, 10000 이하인 정수입니다\n",
        "- 문제 링크: https://programmers.co.kr/learn/courses/30/lessons/12947"
      ],
      "metadata": {
        "id": "YlpP1va-GPVw"
      }
    },
    {
      "cell_type": "code",
      "execution_count": null,
      "metadata": {
        "id": "AaaVgI_DGFeR"
      },
      "outputs": [],
      "source": [
        "def solution(x):\n",
        "    x_add = sum([int(i) for i in list(str(x))])\n",
        "    if x % x_add == 0:\n",
        "        return True\n",
        "    else:\n",
        "        return False\n",
        "\n",
        "print(solution(10))\n",
        "print(solution(11))\n",
        "print(solution(12))\n",
        "print(solution(13))"
      ]
    }
  ]
}