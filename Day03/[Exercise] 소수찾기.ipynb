{
  "nbformat": 4,
  "nbformat_minor": 0,
  "metadata": {
    "colab": {
      "name": "[Exercise] 소수찾기.ipynb",
      "provenance": [],
      "authorship_tag": "ABX9TyOiy4lSivlwa5cg+9X08gno",
      "include_colab_link": true
    },
    "kernelspec": {
      "name": "python3",
      "display_name": "Python 3"
    },
    "language_info": {
      "name": "python"
    }
  },
  "cells": [
    {
      "cell_type": "markdown",
      "metadata": {
        "id": "view-in-github",
        "colab_type": "text"
      },
      "source": [
        "<a href=\"https://colab.research.google.com/github/hariharihi/Python_tutorial_programmers/blob/main/Day03/%5BExercise%5D%20%EC%86%8C%EC%88%98%EC%B0%BE%EA%B8%B0.ipynb\" target=\"_parent\"><img src=\"https://colab.research.google.com/assets/colab-badge.svg\" alt=\"Open In Colab\"/></a>"
      ]
    },
    {
      "cell_type": "markdown",
      "source": [
        "#[Exercise] 소수찾기\n",
        "###문제 설명\n",
        "- 1부터 입력받은 숫자 n 사이에 있는 소수의 개수를 반환하는 함수, solution을 만들어 보세요. \n",
        "- 소수는 1과 자기 자신으로만 나누어지는 수를 의미합니다.\n",
        "(1은 소수가 아닙니다.)\n",
        "\n",
        "###제한 조건\n",
        "- n은 2이상 1000000이하의 자연수입니다.\n",
        "- 문제링크: https://programmers.co.kr/learn/courses/30/lessons/12921"
      ],
      "metadata": {
        "id": "g_Ea5NHHrICE"
      }
    },
    {
      "cell_type": "markdown",
      "source": [
        "[풀이 참고자료] https://ko.wikipedia.org/wiki/%EC%97%90%EB%9D%BC%ED%86%A0%EC%8A%A4%ED%85%8C%EB%84%A4%EC%8A%A4%EC%9D%98_%EC%B2%B4"
      ],
      "metadata": {
        "id": "EYAYkegxvr6E"
      }
    },
    {
      "cell_type": "code",
      "source": [
        "def solution(n):\n",
        "    # 에라토스테네스의 체 초기화: n개 요소에 True 설정(소수로 간주)\n",
        "    sieve = [True] * n\n",
        "\n",
        "    # n의 최대 약수가 sqrt(n) 이하이므로 i=sqrt(n)까지 검사\n",
        "    m = int(n ** 0.5)\n",
        "    for i in range(2, m + 1):\n",
        "        if sieve[i] == True:           # i가 소수인 경우\n",
        "            for j in range(i+i, n, i): # i이후 i의 배수들을 False 판정\n",
        "                sieve[j] = False\n",
        "\n",
        "    # 소수 목록 산출\n",
        "    prime_list = [i for i in range(2, n) if sieve[i] == True]\n",
        "    return len(prime_list)\n",
        "    \n",
        "print(solution(5))\n",
        "print(solution(10))"
      ],
      "metadata": {
        "id": "x141OxNeq7kI",
        "colab": {
          "base_uri": "https://localhost:8080/"
        },
        "outputId": "75aff954-d35e-4add-d5c3-a5c1a597ba2c"
      },
      "execution_count": null,
      "outputs": [
        {
          "output_type": "stream",
          "name": "stdout",
          "text": [
            "3\n",
            "4\n"
          ]
        }
      ]
    },
    {
      "cell_type": "code",
      "execution_count": null,
      "metadata": {
        "colab": {
          "base_uri": "https://localhost:8080/"
        },
        "id": "AMRoStxWoj6D",
        "outputId": "ee3e7846-e4cc-4f21-bba5-f66536fa24c5"
      },
      "outputs": [
        {
          "output_type": "stream",
          "name": "stdout",
          "text": [
            "3\n",
            "4\n"
          ]
        }
      ],
      "source": [
        "#OR\n",
        "\n",
        "def solution(n): \n",
        "    findNum = []\n",
        "    for i in range(1,n+1): \n",
        "        prime = []\n",
        "        for j in range(1,i+1): \n",
        "            if i % j ==0:\n",
        "                prime.append(j)\n",
        "        if len(prime) == 2:\n",
        "            findNum.append(i)\n",
        "    return len(findNum)\n",
        "\n",
        "print(solution(5))\n",
        "print(solution(10))"
      ]
    }
  ]
}