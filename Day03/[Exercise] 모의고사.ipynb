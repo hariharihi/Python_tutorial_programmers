{
  "nbformat": 4,
  "nbformat_minor": 0,
  "metadata": {
    "colab": {
      "name": "[Exercise] 모의고사.ipynb",
      "provenance": [],
      "authorship_tag": "ABX9TyPFoUtWWw8WOguh4HD0V0Vd",
      "include_colab_link": true
    },
    "kernelspec": {
      "name": "python3",
      "display_name": "Python 3"
    },
    "language_info": {
      "name": "python"
    }
  },
  "cells": [
    {
      "cell_type": "markdown",
      "metadata": {
        "id": "view-in-github",
        "colab_type": "text"
      },
      "source": [
        "<a href=\"https://colab.research.google.com/github/hariharihi/Python_tutorial_programmers/blob/main/Day03/%5BExercise%5D%20%EB%AA%A8%EC%9D%98%EA%B3%A0%EC%82%AC.ipynb\" target=\"_parent\"><img src=\"https://colab.research.google.com/assets/colab-badge.svg\" alt=\"Open In Colab\"/></a>"
      ]
    },
    {
      "cell_type": "markdown",
      "source": [
        "#[Exercise] 모의고사\n",
        "\n",
        "###문제 설명\n",
        "수포자는 수학을 포기한 사람의 준말입니다. 수포자 삼인방은 모의고사에 수학 문제를 전부 찍으려 합니다. 수포자는 1번 문제부터 마지막 문제까지 다음과 같이 찍습니다.\n",
        "\n",
        "- 1번 수포자가 찍는 방식: 1, 2, 3, 4, 5, 1, 2, 3, 4, 5, ...\n",
        "- 2번 수포자가 찍는 방식: 2, 1, 2, 3, 2, 4, 2, 5, 2, 1, 2, 3, 2, 4, 2, 5, ...\n",
        "- 3번 수포자가 찍는 방식: 3, 3, 1, 1, 2, 2, 4, 4, 5, 5, 3, 3, 1, 1, 2, 2, 4, 4, 5, 5, ...\n",
        "\n",
        "1번 문제부터 마지막 문제까지의 정답이 순서대로 들은 배열 answers가 주어졌을 때, 가장 많은 문제를 맞힌 사람이 누구인지 배열에 담아 return 하도록 solution 함수를 작성해주세요.\n",
        "\n",
        "###제한 조건\n",
        "- 시험은 최대 10,000 문제로 구성되어있습니다.\n",
        "- 문제의 정답은 1, 2, 3, 4, 5중 하나입니다.\n",
        "- 가장 높은 점수를 받은 사람이 여럿일 경우, return하는 값을 오름차순 정렬해주세요.\n",
        "- 문제 링크: https://programmers.co.kr/learn/courses/30/lessons/42840"
      ],
      "metadata": {
        "id": "M3j6c--CQ-4m"
      }
    },
    {
      "cell_type": "code",
      "execution_count": 7,
      "metadata": {
        "colab": {
          "base_uri": "https://localhost:8080/"
        },
        "id": "U0GZTjq5MqhQ",
        "outputId": "c2768128-a822-4327-9eec-d59aedfd86aa"
      },
      "outputs": [
        {
          "output_type": "stream",
          "name": "stdout",
          "text": [
            "[1]\n",
            "[1, 2, 3]\n"
          ]
        }
      ],
      "source": [
        "def solution(answers):\n",
        "    p1 = [1,2,3,4,5]\n",
        "    p2 = [2,1,2,3,2,4,2,5]\n",
        "    p3 = [3,3,1,1,2,2,4,4,5,5]\n",
        "    p1_count = 0 #정답을 카운트하는 변수 생성\n",
        "    p2_count = 0\n",
        "    p3_count = 0\n",
        "    for index, answer in enumerate(answers): #enumerate() 함수 사용\n",
        "        if answer == p1[index%len(p1)]:\n",
        "            p1_count += 1\n",
        "        if answer == p2[index%len(p2)]:\n",
        "            p2_count += 1\n",
        "        if answer == p3[index%len(p3)]:\n",
        "            p3_count += 1\n",
        "            \n",
        "    top = [] #list 형으로 결과값 저장할 변수 생성\n",
        "    top_list = [p1_count, p2_count, p3_count]\n",
        "    for i in range(len(top_list)):\n",
        "        if top_list[i] == max(top_list): #max() 함수 사용\n",
        "            top.append(i+1)\n",
        "    return top\n",
        "\n",
        "print(solution([1,2,3,4,5]))\n",
        "print(solution([1,3,2,4,2]))"
      ]
    },
    {
      "cell_type": "code",
      "source": [
        "# OR\n",
        "def solution(answers):\n",
        "    p1 = [1,2,3,4,5]\n",
        "    p2 = [2,1,2,3,2,4,2,5]\n",
        "    p3 = [3,3,1,1,2,2,4,4,5,5]\n",
        "    count = [0, 0, 0] #list 형으로 정답을 카운트하는 변수 생성\n",
        "    for index, answer in enumerate(answers): \n",
        "        if answer == p1[index%len(p1)]:\n",
        "            count[0] += 1\n",
        "        if answer == p2[index%len(p2)]:\n",
        "            count[1] += 1\n",
        "        if answer == p3[index%len(p3)]:\n",
        "            count[2] += 1\n",
        "\n",
        "    top = [] \n",
        "    for index, top_count in enumerate(count): #enumerate() 함수 사용\n",
        "      if top_count == max(count):\n",
        "        top.append(index+1)\n",
        "    return top\n",
        "\n",
        "print(solution([1,2,3,4,5]))\n",
        "print(solution([1,3,2,4,2]))"
      ],
      "metadata": {
        "colab": {
          "base_uri": "https://localhost:8080/"
        },
        "id": "IWWhcFw3-7x5",
        "outputId": "826b982e-6e38-4a9e-b631-b6f24c199f45"
      },
      "execution_count": 6,
      "outputs": [
        {
          "output_type": "stream",
          "name": "stdout",
          "text": [
            "[1]\n",
            "[1, 2, 3]\n"
          ]
        }
      ]
    }
  ]
}