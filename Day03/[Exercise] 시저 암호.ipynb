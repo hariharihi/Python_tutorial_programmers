{
  "nbformat": 4,
  "nbformat_minor": 0,
  "metadata": {
    "colab": {
      "name": "[Exercise] 시저 암호.ipynb",
      "provenance": [],
      "collapsed_sections": [],
      "authorship_tag": "ABX9TyP8Yel61FYo+kAM03wYAXf/",
      "include_colab_link": true
    },
    "kernelspec": {
      "name": "python3",
      "display_name": "Python 3"
    },
    "language_info": {
      "name": "python"
    }
  },
  "cells": [
    {
      "cell_type": "markdown",
      "metadata": {
        "id": "view-in-github",
        "colab_type": "text"
      },
      "source": [
        "<a href=\"https://colab.research.google.com/github/hariharihi/Python_tutorial_programmers/blob/main/Day03/%5BExercise%5D%20%EC%8B%9C%EC%A0%80%20%EC%95%94%ED%98%B8.ipynb\" target=\"_parent\"><img src=\"https://colab.research.google.com/assets/colab-badge.svg\" alt=\"Open In Colab\"/></a>"
      ]
    },
    {
      "cell_type": "markdown",
      "source": [
        "#[Exercise] 시저 암호\n",
        "\n",
        "###문제 설명\n",
        "- 어떤 문장의 각 알파벳을 일정한 거리만큼 밀어서 다른 알파벳으로 바꾸는 암호화 방식을 시저 암호라고 합니다.\n",
        "- 예를 들어 \"AB\"는 1만큼 밀면 \"BC\"가 되고, 3만큼 밀면 \"DE\"가 됩니다. \"z\"는 1만큼 밀면 \"a\"가 됩니다. \n",
        "- 문자열 s와 거리 n을 입력받아 s를 n만큼 민 암호문을 만드는 함수, solution을 완성해 보세요.\n",
        "\n",
        "\n",
        "###제한 조건\n",
        "- 공백은 아무리 밀어도 공백입니다.\n",
        "- s는 알파벳 소문자, 대문자, 공백으로만 이루어져 있습니다.\n",
        "- s의 길이는 8000이하입니다.\n",
        "- n은 1 이상, 25이하인 자연수입니다."
      ],
      "metadata": {
        "id": "2TpKTOstSj6D"
      }
    },
    {
      "cell_type": "code",
      "source": [
        "def solution(s, n):\n",
        "    alphabet = 'ABCDEFGHIJKLMNOPQRSTUVWXYZ' \n",
        "    s_list = []\n",
        "    \n",
        "    for i in range(len(s)): \n",
        "        if s[i].isalpha() == True:\n",
        "            s_upper = s[i].upper() \n",
        "            s_index = alphabet.index(s_upper)\n",
        "            index_plus = s_index + n\n",
        "            if index_plus > len(alphabet) - 1: \n",
        "                index_plus = index_plus - len(alphabet)\n",
        "        \n",
        "            s_plus = alphabet[index_plus] \n",
        "            if s[i].isupper() == True:\n",
        "                s_list.append(s_plus)\n",
        "            else:\n",
        "                s_list.append(s_plus.lower())\n",
        "        else: \n",
        "            s_list.append(' ') \n",
        "            \n",
        "    answer = ''\n",
        "    for i in s_list:\n",
        "        answer = answer + i\n",
        "    return answer\n",
        "\n",
        "print(solution(\"AB\", 1))\n",
        "print(solution(\"z\", 1))\n",
        "print(solution(\"a B z\", 4))"
      ],
      "metadata": {
        "id": "5404k8b6Sjxl",
        "colab": {
          "base_uri": "https://localhost:8080/"
        },
        "outputId": "77ac5280-de69-4be9-ab36-2a2e72f953c9"
      },
      "execution_count": 19,
      "outputs": [
        {
          "output_type": "stream",
          "name": "stdout",
          "text": [
            "BC\n",
            "a\n",
            "e F d\n"
          ]
        }
      ]
    },
    {
      "cell_type": "code",
      "source": [
        "#OR\n",
        "\n",
        "def solution(s, n):\n",
        "    alpha_upper = 'ABCDEFGHIJKLMNOPQRSTUVWXYZ' \n",
        "    alpha_lower = 'abcdefghijklmnopqrstuvwxyz'\n",
        "    s_list = []\n",
        "    \n",
        "    for i in s: \n",
        "        if i.isalpha() == True:\n",
        "            if i.islower() == True:\n",
        "                s_index = alpha_lower.find(i) + n  \n",
        "                s_list.append(alpha_lower[s_index%26])\n",
        "            else:\n",
        "                s_index = alpha_upper.find(i) + n\n",
        "                s_list.append(alpha_upper[s_index%26])\n",
        "        else:\n",
        "            s_list.append(' ')\n",
        "    answer = ''\n",
        "    for i in s_list:\n",
        "        answer = answer + i \n",
        "    return answer\n",
        "\n",
        "print(solution(\"AB\", 1))\n",
        "print(solution(\"z\", 1))\n",
        "print(solution(\"a B z\", 4))"
      ],
      "metadata": {
        "colab": {
          "base_uri": "https://localhost:8080/"
        },
        "id": "4RPeQUUdTg2j",
        "outputId": "35cef672-449c-4086-c0b4-ef58a29531a6"
      },
      "execution_count": 23,
      "outputs": [
        {
          "output_type": "stream",
          "name": "stdout",
          "text": [
            "BC\n",
            "a\n",
            "e F d\n"
          ]
        }
      ]
    },
    {
      "cell_type": "code",
      "execution_count": 22,
      "metadata": {
        "id": "bZ6t-0LY1prz",
        "outputId": "080b4a75-ac43-42ce-910c-dfe3494c8455",
        "colab": {
          "base_uri": "https://localhost:8080/"
        }
      },
      "outputs": [
        {
          "output_type": "stream",
          "name": "stdout",
          "text": [
            "BC\n",
            "a\n",
            "e F d\n"
          ]
        }
      ],
      "source": [
        "#OR\n",
        "\n",
        "def caesar(s, n):\n",
        "    lower_list = \"abcdefghijklmnopqrstuvwxyz\"\n",
        "    upper_list = \"ABCDEFGHIJKLMNOPQRSTUVWXYZ\"\n",
        "\n",
        "    result = []\n",
        "\n",
        "    for i in s:\n",
        "        if i is \" \":\n",
        "            result.append(\" \")\n",
        "        elif i.islower() is True:\n",
        "            new_ = lower_list.find(i) + n\n",
        "            result.append(lower_list[new_ % 26])\n",
        "        else:\n",
        "            new_ = upper_list.find(i) + n\n",
        "            result.append(upper_list[new_ % 26])\n",
        "    return \"\".join(result)\n",
        "\n",
        "print(solution(\"AB\", 1))\n",
        "print(solution(\"z\", 1))\n",
        "print(solution(\"a B z\", 4))"
      ]
    }
  ]
}