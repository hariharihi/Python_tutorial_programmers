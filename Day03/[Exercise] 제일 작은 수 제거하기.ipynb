{
  "nbformat": 4,
  "nbformat_minor": 0,
  "metadata": {
    "colab": {
      "name": "[Exercise] 제일 작은 수 제거하기.ipynb",
      "provenance": [],
      "authorship_tag": "ABX9TyMfdDOUBuu46stMmxKNqDf9",
      "include_colab_link": true
    },
    "kernelspec": {
      "name": "python3",
      "display_name": "Python 3"
    },
    "language_info": {
      "name": "python"
    }
  },
  "cells": [
    {
      "cell_type": "markdown",
      "metadata": {
        "id": "view-in-github",
        "colab_type": "text"
      },
      "source": [
        "<a href=\"https://colab.research.google.com/github/hariharihi/Python_tutorial_programmers/blob/main/Day03/%5BExercise%5D%20%EC%A0%9C%EC%9D%BC%20%EC%9E%91%EC%9D%80%20%EC%88%98%20%EC%A0%9C%EA%B1%B0%ED%95%98%EA%B8%B0.ipynb\" target=\"_parent\"><img src=\"https://colab.research.google.com/assets/colab-badge.svg\" alt=\"Open In Colab\"/></a>"
      ]
    },
    {
      "cell_type": "markdown",
      "source": [
        "#[Exercise] 제일 작은 수 제거하기\n",
        "###문제 설명\n",
        "정수를 저장한 배열, arr 에서 가장 작은 수를 제거한 배열을 리턴하는 함수, solution을 완성해주세요. 단, 리턴하려는 배열이 빈 배열인 경우엔 배열에 -1을 채워 리턴하세요. 예를들어 arr이 [4,3,2,1]인 경우는 [4,3,2]를 리턴 하고, [10]면 [-1]을 리턴 합니다.\n",
        "\n",
        "###제한 조건\n",
        "- arr은 길이 1 이상인 배열입니다.\n",
        "- 인덱스 i, j에 대해 i ≠ j이면 arr[i] ≠ arr[j] 입니다.\n",
        "- 문제링크: https://programmers.co.kr/learn/courses/30/lessons/12935#**굵은 텍스트**"
      ],
      "metadata": {
        "id": "76JJwIjpVKcv"
      }
    },
    {
      "cell_type": "code",
      "execution_count": 3,
      "metadata": {
        "colab": {
          "base_uri": "https://localhost:8080/"
        },
        "id": "bXJKzYVfVG2B",
        "outputId": "5459033c-4177-4f19-c515-886c2d37efe5"
      },
      "outputs": [
        {
          "output_type": "stream",
          "name": "stdout",
          "text": [
            "[5, 8, 6, 4]\n"
          ]
        }
      ],
      "source": [
        "def solution(arr):\n",
        "    answer = None\n",
        "    for i in arr: \n",
        "        if len(arr) == 1:\n",
        "            return [-1]\n",
        "        else:\n",
        "            if answer == None:\n",
        "                answer = i\n",
        "            elif answer > i:\n",
        "                answer = i\n",
        "            else:\n",
        "                continue\n",
        "    arr.remove(answer)\n",
        "    return arr\n",
        "\n",
        "print(solution([5, 8, 6, 3, 4]))"
      ]
    },
    {
      "cell_type": "code",
      "source": [
        "# OR\n",
        "def solution(mylist):\n",
        "    return [i for i in mylist if i > min(mylist)]\n",
        "\n",
        "print(solution([5, 8, 6, 3, 4]))"
      ],
      "metadata": {
        "colab": {
          "base_uri": "https://localhost:8080/"
        },
        "id": "1MPHC3-_V0ls",
        "outputId": "417c8df1-c732-413a-c1ba-f126b9b0242e"
      },
      "execution_count": 8,
      "outputs": [
        {
          "output_type": "stream",
          "name": "stdout",
          "text": [
            "[5, 8, 6, 4]\n"
          ]
        }
      ]
    },
    {
      "cell_type": "code",
      "source": [
        "# OR\n",
        "def rm_small(mylist):\n",
        "    mylist.remove(min(mylist))\n",
        "    return mylist\n",
        "\n",
        "print(solution([5, 8, 6, 3, 4]))"
      ],
      "metadata": {
        "colab": {
          "base_uri": "https://localhost:8080/"
        },
        "id": "Y0NLyGbpnlOm",
        "outputId": "940015f3-06c4-4657-8bff-064ae6716da8"
      },
      "execution_count": 9,
      "outputs": [
        {
          "output_type": "stream",
          "name": "stdout",
          "text": [
            "[5, 8, 6, 4]\n"
          ]
        }
      ]
    }
  ]
}