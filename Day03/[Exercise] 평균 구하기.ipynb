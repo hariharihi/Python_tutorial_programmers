{
  "nbformat": 4,
  "nbformat_minor": 0,
  "metadata": {
    "colab": {
      "name": "[Exercise] 평균 구하기.ipynb",
      "provenance": [],
      "authorship_tag": "ABX9TyOKKT0ozcRJ4pbEKQDHIqTe",
      "include_colab_link": true
    },
    "kernelspec": {
      "name": "python3",
      "display_name": "Python 3"
    },
    "language_info": {
      "name": "python"
    }
  },
  "cells": [
    {
      "cell_type": "markdown",
      "metadata": {
        "id": "view-in-github",
        "colab_type": "text"
      },
      "source": [
        "<a href=\"https://colab.research.google.com/github/hariharihi/Python_tutorial_programmers/blob/main/Day03/%5BExercise%5D%20%ED%8F%89%EA%B7%A0%20%EA%B5%AC%ED%95%98%EA%B8%B0.ipynb\" target=\"_parent\"><img src=\"https://colab.research.google.com/assets/colab-badge.svg\" alt=\"Open In Colab\"/></a>"
      ]
    },
    {
      "cell_type": "markdown",
      "source": [
        "#[Exercise] 평균 구하기\n",
        "\n",
        "###문제 설명\n",
        "정수를 담고 있는 배열 arr의 평균값을 return하는 함수, solution을 완성해보세요.\n",
        "\n",
        "###제한 조건\n",
        "- arr은 길이 1 이상, 100 이하인 배열입니다.\n",
        "- arr의 원소는 -10,000 이상 10,000 이하인 정수입니다.\n",
        "- 문제 링크: https://programmers.co.kr/learn/courses/30/lessons/12944"
      ],
      "metadata": {
        "id": "NwFdU-oLHVRa"
      }
    },
    {
      "cell_type": "code",
      "execution_count": 1,
      "metadata": {
        "colab": {
          "base_uri": "https://localhost:8080/"
        },
        "id": "-4uwxU9CHStt",
        "outputId": "2e2e4b60-6093-4f94-fb27-ac0aea74e94c"
      },
      "outputs": [
        {
          "output_type": "stream",
          "name": "stdout",
          "text": [
            "2.5\n",
            "5.0\n",
            "5.0\n"
          ]
        }
      ],
      "source": [
        "def solution(arr):\n",
        "    answer = sum(arr) / len(arr)\n",
        "    return answer\n",
        "\n",
        "print(solution([1,2,3,4]))\n",
        "print(solution([5,5]))\n",
        "print(solution([0,5,10]))"
      ]
    }
  ]
}