{
  "nbformat": 4,
  "nbformat_minor": 0,
  "metadata": {
    "colab": {
      "name": "[Exercise] x만큼 간격이 있는 n개의 숫자.ipynb",
      "provenance": [],
      "authorship_tag": "ABX9TyMtzEFvlSjPRA6nIrR3vqGd",
      "include_colab_link": true
    },
    "kernelspec": {
      "name": "python3",
      "display_name": "Python 3"
    },
    "language_info": {
      "name": "python"
    }
  },
  "cells": [
    {
      "cell_type": "markdown",
      "metadata": {
        "id": "view-in-github",
        "colab_type": "text"
      },
      "source": [
        "<a href=\"https://colab.research.google.com/github/hariharihi/Python_tutorial_programmers/blob/main/Day03/%5BExercise%5D%20x%EB%A7%8C%ED%81%BC%20%EA%B0%84%EA%B2%A9%EC%9D%B4%20%EC%9E%88%EB%8A%94%20n%EA%B0%9C%EC%9D%98%20%EC%88%AB%EC%9E%90.ipynb\" target=\"_parent\"><img src=\"https://colab.research.google.com/assets/colab-badge.svg\" alt=\"Open In Colab\"/></a>"
      ]
    },
    {
      "cell_type": "markdown",
      "source": [
        "#[Exercise] x만큼 간격이 있는 n개의 숫자\n",
        "\n",
        "###문제 설명\n",
        "함수 solution은 정수 x와 자연수 n을 입력 받아, x부터 시작해 x씩 증가하는 숫자를 n개 지니는 리스트를 리턴해야 합니다. 다음 제한 조건을 보고, 조건을 만족하는 함수, solution을 완성해주세요.\n",
        "\n",
        "###제한 조건\n",
        "- x는 -10000000 이상, 10000000 이하인 정수입니다.\n",
        "- n은 1000 이하인 자연수입니다.\n",
        "- 문제 링크: https://programmers.co.kr/learn/courses/30/lessons/12954"
      ],
      "metadata": {
        "id": "9yWn7a6-F92j"
      }
    },
    {
      "cell_type": "code",
      "source": [
        "# 등차수열1: 효율적\n",
        "def solution(x, n):\n",
        "  return [x + x*i for i in range(n)]\n",
        "\n",
        "print(solution(2, 5))\n",
        "print(solution(4, 3))\n",
        "print(solution(-4, 2))"
      ],
      "metadata": {
        "colab": {
          "base_uri": "https://localhost:8080/"
        },
        "id": "jn1nAPanF9aw",
        "outputId": "858debe0-485d-4109-e1a4-e2f53925604f"
      },
      "execution_count": 1,
      "outputs": [
        {
          "output_type": "stream",
          "name": "stdout",
          "text": [
            "[2, 4, 6, 8, 10]\n",
            "[4, 8, 12]\n",
            "[-4, -8]\n"
          ]
        }
      ]
    },
    {
      "cell_type": "code",
      "execution_count": 5,
      "metadata": {
        "colab": {
          "base_uri": "https://localhost:8080/"
        },
        "id": "DGBhrxHIFjLV",
        "outputId": "b8002ee9-9584-4bd3-b5bf-5d470ededaef"
      },
      "outputs": [
        {
          "output_type": "stream",
          "name": "stdout",
          "text": [
            "[2, 4, 6, 8, 10]\n",
            "[4, 8, 12]\n",
            "[-4, -8]\n"
          ]
        }
      ],
      "source": [
        "# 등차수열2: 비효율적\n",
        "\n",
        "def solution(x, n): \n",
        "    answer = []\n",
        "    origin_x = x \n",
        "    for i in range(n):\n",
        "        if i == 0: \n",
        "            answer.append(x)\n",
        "        else:\n",
        "            answer.append(x + origin_x) \n",
        "            x = x + origin_x \n",
        "    return answer\n",
        "\n",
        "print(solution(2, 5))\n",
        "print(solution(4, 3))\n",
        "print(solution(-4, 2))"
      ]
    },
    {
      "cell_type": "markdown",
      "source": [
        "- 등차수열: https://mathbang.net/607\n",
        "- 등비수열: https://mathbang.net/611"
      ],
      "metadata": {
        "id": "NcCjL481IjxS"
      }
    }
  ]
}