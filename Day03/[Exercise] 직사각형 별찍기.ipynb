{
  "nbformat": 4,
  "nbformat_minor": 0,
  "metadata": {
    "colab": {
      "name": "[Exercise] 직사각형 별찍기.ipynb",
      "provenance": [],
      "collapsed_sections": [],
      "authorship_tag": "ABX9TyNjKTTt9Aor3aCk7suXEjWc",
      "include_colab_link": true
    },
    "kernelspec": {
      "name": "python3",
      "display_name": "Python 3"
    },
    "language_info": {
      "name": "python"
    }
  },
  "cells": [
    {
      "cell_type": "markdown",
      "metadata": {
        "id": "view-in-github",
        "colab_type": "text"
      },
      "source": [
        "<a href=\"https://colab.research.google.com/github/hariharihi/Python_tutorial_programmers/blob/main/Day03/%5BExercise%5D%20%EC%A7%81%EC%82%AC%EA%B0%81%ED%98%95%20%EB%B3%84%EC%B0%8D%EA%B8%B0.ipynb\" target=\"_parent\"><img src=\"https://colab.research.google.com/assets/colab-badge.svg\" alt=\"Open In Colab\"/></a>"
      ]
    },
    {
      "cell_type": "markdown",
      "source": [
        "#[Exercise] 직사각형 별찍기\n",
        "\n",
        "###문제 설명\n",
        "이 문제에는 표준 입력으로 두 개의 정수 n과 m이 주어집니다.\n",
        "별(*) 문자를 이용해 가로의 길이가 n, 세로의 길이가 m인 직사각형 형태를 출력해보세요.\n",
        "\n",
        "###제한 조건\n",
        "- n과 m은 각각 1000 이하인 자연수입니다.\n",
        "- 문제 링크: https://programmers.co.kr/learn/courses/30/lessons/12969"
      ],
      "metadata": {
        "id": "XOVovo0rwEM1"
      }
    },
    {
      "cell_type": "code",
      "execution_count": 4,
      "metadata": {
        "id": "lspS3lEcwDFq",
        "colab": {
          "base_uri": "https://localhost:8080/"
        },
        "outputId": "d6697686-0264-4380-aae3-e5c33a0ba2fc"
      },
      "outputs": [
        {
          "output_type": "stream",
          "name": "stdout",
          "text": [
            "5 3\n",
            "*****\n",
            "*****\n",
            "*****\n"
          ]
        }
      ],
      "source": [
        "n, m = map(int, input(). strip().split(' '))\n",
        "rec = ((n * '*' + '\\n') * m).rstrip()\n",
        "print(rec)"
      ]
    },
    {
      "cell_type": "code",
      "source": [
        "# OR\n",
        "n, m = map(int, input().strip().split(' '))\n",
        "\n",
        "for i in range(m):\n",
        "    for j in range(n):\n",
        "        print('*', end='')\n",
        "    print('')"
      ],
      "metadata": {
        "colab": {
          "base_uri": "https://localhost:8080/"
        },
        "id": "A8aNRH8SPfDb",
        "outputId": "e58e62fe-98d0-4b62-ae5d-f3e94de82f18"
      },
      "execution_count": 6,
      "outputs": [
        {
          "output_type": "stream",
          "name": "stdout",
          "text": [
            "5 3\n",
            "*****\n",
            "*****\n",
            "*****\n"
          ]
        }
      ]
    },
    {
      "cell_type": "markdown",
      "source": [
        ""
      ],
      "metadata": {
        "id": "ifeP7F5eyEax"
      }
    },
    {
      "cell_type": "code",
      "source": [
        "# map(): \n",
        "    # map(function, iterable):\n",
        "      # 1번째 매개변수로는 함수가 오고, 2번째 매개변수로는 반복 가능한 자료형(리스트, 튜플 등)\n",
        "      # map 함수의 반환 값은 map객체 이기 때문에 해당 자료형을 list 혹은 tuple로 형 변환\n",
        "\n",
        "# 1) list\n",
        "def func(x):\n",
        "  return x * 2\n",
        "\n",
        "list(map(func, [1, 2, 3, 4]))"
      ],
      "metadata": {
        "colab": {
          "base_uri": "https://localhost:8080/"
        },
        "id": "h74I_KbnwWIX",
        "outputId": "8320409e-c69c-4690-f33f-801d9d129b50"
      },
      "execution_count": null,
      "outputs": [
        {
          "output_type": "execute_result",
          "data": {
            "text/plain": [
              "[2, 4, 6, 8]"
            ]
          },
          "metadata": {},
          "execution_count": 2
        }
      ]
    },
    {
      "cell_type": "code",
      "source": [
        "# 2) dict - key\n",
        "x = {1: 10, 2: 20, 3: 30}\n",
        "list(map(func, x))"
      ],
      "metadata": {
        "colab": {
          "base_uri": "https://localhost:8080/"
        },
        "id": "FIyRK0Lcw3uZ",
        "outputId": "97ed0885-1623-425a-db8c-1f5e875578bd"
      },
      "execution_count": null,
      "outputs": [
        {
          "output_type": "execute_result",
          "data": {
            "text/plain": [
              "[2, 4, 6]"
            ]
          },
          "metadata": {},
          "execution_count": 4
        }
      ]
    },
    {
      "cell_type": "code",
      "source": [
        "# 2) dict - value\n",
        "\n",
        "x = {1: 10, 2: 20, 3: 30}\n",
        "list(map(func, [x[i] for i in x]))"
      ],
      "metadata": {
        "colab": {
          "base_uri": "https://localhost:8080/"
        },
        "id": "wxaCKiVwxBf0",
        "outputId": "ab0759b4-472d-489c-d964-f39b6a27a176"
      },
      "execution_count": null,
      "outputs": [
        {
          "output_type": "execute_result",
          "data": {
            "text/plain": [
              "[20, 40, 60]"
            ]
          },
          "metadata": {},
          "execution_count": 5
        }
      ]
    }
  ]
}