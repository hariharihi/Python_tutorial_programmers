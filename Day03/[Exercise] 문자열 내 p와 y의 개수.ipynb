{
  "nbformat": 4,
  "nbformat_minor": 0,
  "metadata": {
    "colab": {
      "name": "[Exercise] 문자열 내 p와 y의 개수.ipynb",
      "provenance": [],
      "authorship_tag": "ABX9TyMIxxVZ/EbMLDIkMcFu6AeT",
      "include_colab_link": true
    },
    "kernelspec": {
      "name": "python3",
      "display_name": "Python 3"
    },
    "language_info": {
      "name": "python"
    }
  },
  "cells": [
    {
      "cell_type": "markdown",
      "metadata": {
        "id": "view-in-github",
        "colab_type": "text"
      },
      "source": [
        "<a href=\"https://colab.research.google.com/github/hariharihi/Python_tutorial_programmers/blob/main/Day03/%5BExercise%5D%20%EB%AC%B8%EC%9E%90%EC%97%B4%20%EB%82%B4%20p%EC%99%80%20y%EC%9D%98%20%EA%B0%9C%EC%88%98.ipynb\" target=\"_parent\"><img src=\"https://colab.research.google.com/assets/colab-badge.svg\" alt=\"Open In Colab\"/></a>"
      ]
    },
    {
      "cell_type": "markdown",
      "source": [
        "#[Exercise] 문자열 내 p와 y의 개수\n",
        "###문제 설명\n",
        "대문자와 소문자가 섞여있는 문자열 s가 주어집니다. s에 'p'의 개수와 'y'의 개수를 비교해 같으면 True, 다르면 False를 return 하는 solution를 완성하세요. 'p', 'y' 모두 하나도 없는 경우는 항상 True를 리턴합니다. 단, 개수를 비교할 때 대문자와 소문자는 구별하지 않습니다.\n",
        "\n",
        "예를 들어 s가 \"pPoooyY\"면 true를 return하고 \"Pyy\"라면 false를 return합니다.\n",
        "\n",
        "###제한 조건\n",
        "- 문자열 s의 길이: 50 이하의 자연수\n",
        "- 문자열 s는 알파벳으로만 이루어져 있습니다.\n",
        "- 문제링크: https://programmers.co.kr/learn/courses/30/lessons/12916"
      ],
      "metadata": {
        "id": "WAb16ZRY9WMA"
      }
    },
    {
      "cell_type": "code",
      "source": [
        "def solution(s):\n",
        "    s = s.upper()\n",
        "    pcount = s.count('P')\n",
        "    ycount = s.count('Y')\n",
        "    \n",
        "    if pcount == ycount:\n",
        "        answer = True\n",
        "    else:\n",
        "        answer = False\n",
        "    return answer\n",
        "\n",
        "print(solution(\"pPoooyY\"))\n",
        "print(solution(\"Pyy\"))"
      ],
      "metadata": {
        "colab": {
          "base_uri": "https://localhost:8080/"
        },
        "id": "06wAnZXt9jzG",
        "outputId": "d7de324d-f97d-418b-db8a-11a6e6e189c7"
      },
      "execution_count": null,
      "outputs": [
        {
          "output_type": "stream",
          "name": "stdout",
          "text": [
            "True\n",
            "False\n"
          ]
        }
      ]
    }
  ]
}