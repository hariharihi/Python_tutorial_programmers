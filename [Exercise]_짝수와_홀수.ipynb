{
  "nbformat": 4,
  "nbformat_minor": 0,
  "metadata": {
    "colab": {
      "name": "[Exercise] 짝수와 홀수",
      "provenance": [],
      "authorship_tag": "ABX9TyOrIKWQPAVt9aAP8Mn553a2",
      "include_colab_link": true
    },
    "kernelspec": {
      "name": "python3",
      "display_name": "Python 3"
    },
    "language_info": {
      "name": "python"
    }
  },
  "cells": [
    {
      "cell_type": "markdown",
      "metadata": {
        "id": "view-in-github",
        "colab_type": "text"
      },
      "source": [
        "<a href=\"https://colab.research.google.com/github/hariharihi/Python_tutorial_programmers/blob/main/%5BExercise%5D_%EC%A7%9D%EC%88%98%EC%99%80_%ED%99%80%EC%88%98.ipynb\" target=\"_parent\"><img src=\"https://colab.research.google.com/assets/colab-badge.svg\" alt=\"Open In Colab\"/></a>"
      ]
    },
    {
      "cell_type": "markdown",
      "source": [
        "#[Exercise] 짝수와 홀수\n",
        "###문제 설명\n",
        "정수 num이 짝수일 경우 \"Even\"을 반환하고 홀수인 경우 \"Odd\"를 반환하는 함수, solution을 완성해주세요.\n",
        "\n",
        "###제한 조건\n",
        "num은 int 범위의 정수입니다.\n",
        "0은 짝수입니다.\n",
        "- 문제링크: https://programmers.co.kr/learn/courses/30/lessons/12948"
      ],
      "metadata": {
        "id": "TzFlnAZWurgf"
      }
    },
    {
      "cell_type": "code",
      "execution_count": 3,
      "metadata": {
        "colab": {
          "base_uri": "https://localhost:8080/"
        },
        "id": "oY_mDCKat_q8",
        "outputId": "f0841c56-5ae1-4427-d055-b712b9602600"
      },
      "outputs": [
        {
          "output_type": "stream",
          "name": "stdout",
          "text": [
            "Odd\n",
            "Even\n"
          ]
        }
      ],
      "source": [
        "def solution(num):\n",
        "  if num % 2 == 0:\n",
        "    return 'Even'\n",
        "  else:\n",
        "    return 'Odd'\n",
        "\n",
        "print(solution(3))\n",
        "print(solution(4))"
      ]
    }
  ]
}