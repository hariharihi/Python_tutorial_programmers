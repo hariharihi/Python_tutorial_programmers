{
  "nbformat": 4,
  "nbformat_minor": 0,
  "metadata": {
    "colab": {
      "name": "[Exercise] 문자열을 정수로 바꾸기.ipynb",
      "provenance": [],
      "authorship_tag": "ABX9TyP8LG/PZzifBYsQFFBnSbMA",
      "include_colab_link": true
    },
    "kernelspec": {
      "name": "python3",
      "display_name": "Python 3"
    },
    "language_info": {
      "name": "python"
    }
  },
  "cells": [
    {
      "cell_type": "markdown",
      "metadata": {
        "id": "view-in-github",
        "colab_type": "text"
      },
      "source": [
        "<a href=\"https://colab.research.google.com/github/hariharihi/Python_tutorial_programmers/blob/main/%5BExercise%5D_%EB%AC%B8%EC%9E%90%EC%97%B4%EC%9D%84_%EC%A0%95%EC%88%98%EB%A1%9C_%EB%B0%94%EA%BE%B8%EA%B8%B0.ipynb\" target=\"_parent\"><img src=\"https://colab.research.google.com/assets/colab-badge.svg\" alt=\"Open In Colab\"/></a>"
      ]
    },
    {
      "cell_type": "markdown",
      "source": [
        "#[Exercise] 문자열을 정수로 바꾸기\n",
        "###문제 설명\n",
        "문자열 s를 숫자로 변환한 결과를 반환하는 함수, solution을 완성하세요.\n",
        "\n",
        "###제한 조건\n",
        "s의 길이는 1 이상 5이하입니다.\n",
        "s의 맨앞에는 부호(+, -)가 올 수 있습니다.\n",
        "s는 부호와 숫자로만 이루어져있습니다.\n",
        "s는 \"0\"으로 시작하지 않습니다.\n",
        "- 문제링크: https://programmers.co.kr/learn/courses/30/lessons/12925"
      ],
      "metadata": {
        "id": "AIyVZCkV_PLf"
      }
    },
    {
      "cell_type": "code",
      "execution_count": 2,
      "metadata": {
        "colab": {
          "base_uri": "https://localhost:8080/"
        },
        "id": "zoVo1i98-_Kb",
        "outputId": "6c2a7247-f7cb-4d64-e3aa-8378dded815e"
      },
      "outputs": [
        {
          "output_type": "stream",
          "name": "stdout",
          "text": [
            "1234\n",
            "-1234\n"
          ]
        }
      ],
      "source": [
        "def solution(s):\n",
        "  return int(s)\n",
        "\n",
        "print(solution('1234'))\n",
        "print(solution('-1234'))"
      ]
    }
  ]
}
