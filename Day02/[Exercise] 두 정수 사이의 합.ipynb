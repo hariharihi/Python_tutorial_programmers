{
  "nbformat": 4,
  "nbformat_minor": 0,
  "metadata": {
    "colab": {
      "name": "Untitled2.ipynb",
      "provenance": [],
      "authorship_tag": "ABX9TyNRa7aKJ08N1/Ek12h0AS4y",
      "include_colab_link": true
    },
    "kernelspec": {
      "name": "python3",
      "display_name": "Python 3"
    },
    "language_info": {
      "name": "python"
    }
  },
  "cells": [
    {
      "cell_type": "markdown",
      "metadata": {
        "id": "view-in-github",
        "colab_type": "text"
      },
      "source": [
        "<a href=\"https://colab.research.google.com/github/hariharihi/Python_tutorial_programmers/blob/main/%5BExercise%5D%20%EB%AC%B8%EC%9E%90%EC%97%B4%EC%9D%84%20%EC%A0%95%EC%88%98%EB%A1%9C%20%EB%B0%94%EA%BE%B8%EA%B8%B0.ipynb\" target=\"_parent\"><img src=\"https://colab.research.google.com/assets/colab-badge.svg\" alt=\"Open In Colab\"/></a>"
      ]
    },
    {
      "cell_type": "markdown",
      "metadata": {
        "id": "EUfA-DuNA2rb"
      },
      "source": [
        "# [Exercise] 두 정수 사이의 합\n",
        "\n",
        "###문제 설명\n",
        "두 정수 a, b가 주어졌을 때 a와 b 사이에 속한 모든 정수의 합을 리턴하는 함수, solution을 완성하세요.\n",
        "예를 들어 a = 3, b = 5인 경우, 3 + 4 + 5 = 12이므로 12를 리턴합니다.\n",
        "\n",
        "\n",
        "\n",
        "###제한 조건\n",
        "* a와 b가 같은 경우는 둘 중 아무 수나 리턴하세요.\n",
        "* a와 b는 -10,000,000 이상 10,000,000 이하인 정수입니다.\n",
        "* a와 b의 대소관계는 정해져있지 않습니다.\n",
        "\n",
        "문제링크: https://programmers.co.kr/learn/courses/30/lessons/12912"
      ]
    },
    {
      "cell_type": "code",
      "metadata": {
        "id": "mqGmwvm1BXGe"
      },
      "source": [
        "def solution(a, b):\n",
        "    if a == b:\n",
        "        answer = a\n",
        "    elif a < b:\n",
        "        if (b-a+1) % 2 == 0:\n",
        "            answer = (b-a+1) // 2 * (a+b)\n",
        "        else:\n",
        "            answer = (b-a+1) // 2 * (a+b) + (a+b) // 2\n",
        "    else:\n",
        "        if (a-b+1) % 2 == 0:\n",
        "            answer = (a-b+1) // 2 * (a+b)\n",
        "        else:\n",
        "            answer = (a-b+1) // 2 * (a+b) + (a+b) // 2 \n",
        "    return answer"
      ],
      "execution_count": null,
      "outputs": []
    },
    {
      "cell_type": "code",
      "metadata": {
        "id": "kzvnQ93WPvWQ"
      },
      "source": [
        "def solution(a, b):\n",
        "    if a > b:\n",
        "      a, b = b, a\n",
        "    return (a+b) * (b-a+1) // 2\n",
        "\n",
        "\n",
        "#a가 작은거길 원하고, b가 크길 바람\n",
        "#(똑같이 적용하기) a,b = b,a\n",
        "\n",
        "#a 홀수, b 홀수 -> (a+b) 짝수\n",
        "#a 홀수, b 짝수 -> (b-a+1) 짝수\n",
        "#a 짝수, b 홀수 -> (b-a+1) 짝수\n",
        "#a 짝수, b 짝수 -> (a+b) 짝수\n"
      ],
      "execution_count": 2,
      "outputs": []
    }
  ]
}
