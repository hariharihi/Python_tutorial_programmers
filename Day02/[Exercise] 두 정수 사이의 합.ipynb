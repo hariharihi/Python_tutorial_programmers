{
  "nbformat": 4,
  "nbformat_minor": 0,
  "metadata": {
    "colab": {
      "name": "Untitled12.ipynb",
      "provenance": [],
      "authorship_tag": "ABX9TyPlEv6fRv8AVyyW1eYrUgSi",
      "include_colab_link": true
    },
    "kernelspec": {
      "name": "python3",
      "display_name": "Python 3"
    },
    "language_info": {
      "name": "python"
    }
  },
  "cells": [
    {
      "cell_type": "markdown",
      "metadata": {
        "id": "view-in-github",
        "colab_type": "text"
      },
      "source": [
        "<a href=\"https://colab.research.google.com/github/hariharihi/Python_tutorial_programmers/blob/main/Untitled12.ipynb\" target=\"_parent\"><img src=\"https://colab.research.google.com/assets/colab-badge.svg\" alt=\"Open In Colab\"/></a>"
      ]
    },
    {
      "cell_type": "markdown",
      "source": [
        "#[Exercise] 두 정수 사이의 합\n",
        "###문제 설명\n",
        "두 정수 a, b가 주어졌을 때 a와 b 사이에 속한 모든 정수의 합을 리턴하는 함수, solution을 완성하세요. 예를 들어 a = 3, b = 5인 경우, 3 + 4 + 5 = 12이므로 12를 리턴합니다.\n",
        "\n",
        "###제한 조건\n",
        "a와 b가 같은 경우는 둘 중 아무 수나 리턴하세요.\n",
        "a와 b는 -10,000,000 이상 10,000,000 이하인 정수입니다.\n",
        "a와 b의 대소관계는 정해져있지 않습니다.\n",
        "- 문제링크: https://programmers.co.kr/learn/courses/30/lessons/12912"
      ],
      "metadata": {
        "id": "A8xhLGMZ6yFo"
      }
    },
    {
      "cell_type": "code",
      "execution_count": 39,
      "metadata": {
        "colab": {
          "base_uri": "https://localhost:8080/"
        },
        "id": "lidEJshnu_X-",
        "outputId": "375b261c-b70b-45b6-a32f-dcdc1a6f11b1"
      },
      "outputs": [
        {
          "output_type": "stream",
          "name": "stdout",
          "text": [
            "12\n",
            "3\n",
            "12\n"
          ]
        }
      ],
      "source": [
        "def solution(a, b):\n",
        "  if a == b:\n",
        "    answer = a\n",
        "  elif a < b:\n",
        "    if (b-a+1) % 2 == 0:\n",
        "      answer = (b-a+1) // 2 * (a+b)\n",
        "    else:\n",
        "      answer = (b-a+1) // 2 * (a+b) + (a+b) // 2\n",
        "  else:\n",
        "      if (a-b+1) % 2 == 0:\n",
        "        answer = (a-b+1) // 2 * (a+b)\n",
        "      else:\n",
        "        answer = (a-b+1) // 2 * (a+b) + (a+b) // 2 \n",
        "  return answer\n",
        "\n",
        "print(solution(5, 3))\n",
        "print(solution(3, 3))\n",
        "print(solution(3, 5))"
      ]
    },
    {
      "cell_type": "code",
      "source": [
        "#OR\n",
        "\n",
        "def solution(a, b):\n",
        "    if a > b:\n",
        "      a, b = b, a\n",
        "    return (a+b) * (b-a+1) // 2\n",
        "\n",
        "print(solution(5, 3))\n",
        "print(solution(3, 3))\n",
        "print(solution(3, 5))\n",
        "\n",
        "#a가 작은거길 원하고, b가 크길 바람\n",
        "#(똑같이 적용하기) a,b = b,a\n",
        "\n",
        "#a 홀수, b 홀수 -> (a+b) 짝수\n",
        "#a 홀수, b 짝수 -> (b-a+1) 짝수\n",
        "#a 짝수, b 홀수 -> (b-a+1) 짝수\n",
        "#a 짝수, b 짝수 -> (a+b) 짝수"
      ],
      "metadata": {
        "colab": {
          "base_uri": "https://localhost:8080/"
        },
        "id": "tYYd5Upfzq4h",
        "outputId": "05814e98-07af-459b-ac2e-0cd3c5d99b06"
      },
      "execution_count": 40,
      "outputs": [
        {
          "output_type": "stream",
          "name": "stdout",
          "text": [
            "12\n",
            "3\n",
            "12\n"
          ]
        }
      ]
    }
  ]
}
