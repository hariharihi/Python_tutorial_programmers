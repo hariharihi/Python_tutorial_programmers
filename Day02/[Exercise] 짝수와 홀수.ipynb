{
  "nbformat": 4,
  "nbformat_minor": 0,
  "metadata": {
    "colab": {
      "name": "Untitled1.ipynb",
      "provenance": [],
      "authorship_tag": "ABX9TyM1h6Mn7S1YgD5dJyt/M/0l",
      "include_colab_link": true
    },
    "kernelspec": {
      "name": "python3",
      "display_name": "Python 3"
    },
    "language_info": {
      "name": "python"
    }
  },
  "cells": [
    {
      "cell_type": "markdown",
      "metadata": {
        "id": "view-in-github",
        "colab_type": "text"
      },
      "source": [
        "<a href=\"https://colab.research.google.com/github/hariharihi/Python_tutorial_programmers/blob/main/%5BExercise%5D%20%EC%A7%9D%EC%88%98%EC%99%80%20%ED%99%80%EC%88%98.ipynb\" target=\"_parent\"><img src=\"https://colab.research.google.com/assets/colab-badge.svg\" alt=\"Open In Colab\"/></a>"
      ]
    },
    {
      "cell_type": "markdown",
      "metadata": {
        "id": "EUfA-DuNA2rb"
      },
      "source": [
        "# [Exercise] 짝수와 홀수\n",
        "\n",
        "###문제 설명\n",
        "정수 num이 짝수일 경우 \"Even\"을 반환하고 홀수인 경우 \"Odd\"를 반환하는 함수, solution을 완성해주세요.\n",
        "\n",
        "\n",
        "\n",
        "###제한 조건\n",
        "* num은 int 범위의 정수입니다.\n",
        "* 0은 짝수입니다.\n",
        "\n",
        "문제링크: https://programmers.co.kr/learn/courses/30/lessons/12948"
      ]
    },
    {
      "cell_type": "code",
      "metadata": {
        "id": "mqGmwvm1BXGe"
      },
      "source": [
        "def solution(evenORodd):\n",
        "    if evenORodd % 2 == 0: \n",
        "        answer = 'Even'\n",
        "    else:\n",
        "        answer = 'Odd'\n",
        "    return answer"
      ],
      "execution_count": null,
      "outputs": []
    }
  ]
}
