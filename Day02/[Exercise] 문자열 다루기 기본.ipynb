{
  "nbformat": 4,
  "nbformat_minor": 0,
  "metadata": {
    "colab": {
      "name": "[Exercise] 문자열 다루기 기본",
      "provenance": [],
      "authorship_tag": "ABX9TyN/Iec2NQ0a8l1GLeOqIzzc",
      "include_colab_link": true
    },
    "kernelspec": {
      "name": "python3",
      "display_name": "Python 3"
    },
    "language_info": {
      "name": "python"
    }
  },
  "cells": [
    {
      "cell_type": "markdown",
      "metadata": {
        "id": "view-in-github",
        "colab_type": "text"
      },
      "source": [
        "<a href=\"https://colab.research.google.com/github/hariharihi/Python_tutorial_programmers/blob/main/%5BExercise%5D%20%EB%AC%B8%EC%9E%90%EC%97%B4%20%EB%8B%A4%EB%A3%A8%EA%B8%B0%20%EA%B8%B0%EB%B3%B8.ipynb\" target=\"_parent\"><img src=\"https://colab.research.google.com/assets/colab-badge.svg\" alt=\"Open In Colab\"/></a>"
      ]
    },
    {
      "cell_type": "markdown",
      "source": [
        "#[Exercise] 문자열 다루기 기본\n",
        "###문제 설명\n",
        "문자열 s의 길이가 4 혹은 6이고, 숫자로만 구성돼있는지 확인해주는 함수, solution을 완성하세요. 예를 들어 s가 \"a234\"이면 False를 리턴하고 \"1234\"라면 True를 리턴하면 됩니다.\n",
        "\n",
        "###제한 조건\n",
        "s는 길이 1 이상, 길이 8 이하인 문자열입니다.\n",
        "- 문제링크: https://programmers.co.kr/learn/courses/30/lessons/12918"
      ],
      "metadata": {
        "id": "7vJ04Q3XD_Zl"
      }
    },
    {
      "cell_type": "code",
      "execution_count": 4,
      "metadata": {
        "colab": {
          "base_uri": "https://localhost:8080/"
        },
        "id": "5YD4hizpD9wO",
        "outputId": "1b98310c-927b-4350-c99b-1795f640b04f"
      },
      "outputs": [
        {
          "output_type": "stream",
          "name": "stdout",
          "text": [
            "False\n",
            "True\n"
          ]
        }
      ],
      "source": [
        "def solution(s):\n",
        "  if len(s) == 4 or 6:\n",
        "    return s.isdecimal()\n",
        "  else: \n",
        "    return False\n",
        "\n",
        "print(solution('a234'))\n",
        "print(solution('1234'))"
      ]
    },
    {
      "cell_type": "code",
      "source": [
        "#OR\n",
        "\n",
        "def solution(s):\n",
        "    return (len(s) == 4 or len(s) == 6) and s.isdecimal()\n",
        "\n",
        "print(solution('a234'))\n",
        "print(solution('1234'))"
      ],
      "metadata": {
        "colab": {
          "base_uri": "https://localhost:8080/"
        },
        "id": "kApdHoyxE3EX",
        "outputId": "e3fca336-e8dd-41b5-9629-5e6a9e1c7a1f"
      },
      "execution_count": 5,
      "outputs": [
        {
          "output_type": "stream",
          "name": "stdout",
          "text": [
            "False\n",
            "True\n"
          ]
        }
      ]
    },
    {
      "cell_type": "code",
      "source": [
        "# isdecimal(), isdigit(), isnumeric() 함수: 주어진 문자열이 숫자인지 검사\n",
        "\n",
        "# 1) isdecimal(): 주어진 문자열이 int형(0~9)으로 변환이 가능한지 알아내는 함수이기 때문에 특수문자 중 숫자모양을 숫자로 치지 않는다.\n",
        "# 2) isdigit(): 단일 글자가 '숫자' 모양으로 생겼으면 무조건 True를 반환하는 함수. 즉, 숫자처럼 생긴 '모든 글자'를 숫자로 친다.\n",
        "# 3) isnumeric(): 숫자값 표현에 해당하는 문자열까지 인정한다. 제곱근 및 분수, 거듭제곱 특수문자도 isnumeric() 함수는 True를 반환하는 것을 알 수 있다.\n",
        "\n",
        "# 출처: https://it-neicebee.tistory.com/33 [IT's Portfolio]"
      ],
      "metadata": {
        "id": "TfqVQg-SFF21"
      },
      "execution_count": null,
      "outputs": []
    }
  ]
}
